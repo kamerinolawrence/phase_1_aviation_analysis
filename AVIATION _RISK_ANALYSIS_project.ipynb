{
 "cells": [
  {
   "cell_type": "markdown",
   "id": "64cc30aa-297e-4d21-b510-e042425d9d21",
   "metadata": {},
   "source": [
    "# AVIATION RISK ANALYSIS "
   ]
  },
  {
   "cell_type": "markdown",
   "id": "e47f7761-5e94-4602-a083-4b4ab83202fd",
   "metadata": {},
   "source": [
    "## INTRODUCTION"
   ]
  },
  {
   "cell_type": "markdown",
   "id": "40097108-d1c8-44a8-b8d6-222a70ff4883",
   "metadata": {},
   "source": [
    "### Aviation Risks encompases any potential Hazards and uncertainities that could impact the safety , security and efficiency of the aircraft operations"
   ]
  },
  {
   "cell_type": "markdown",
   "id": "ef5dc8ce-cde1-4901-afe1-2666b587fd5c",
   "metadata": {},
   "source": [
    "### Some of the Key Risks include the following :\n",
    "1. Operational Risks : Day to Day flight procedures such as ground handling and human performances\n",
    "2. Technical Risks : Malfunctions , failures , aircraft systems and engine\n",
    "3. Human Factors Risks : Errrors streaming from Human performances such as pilot errors , inadequate training and communication breakdowns\n",
    "4. Environmental Risks : Are mostly the Adverse weather conditions such as hailstorms\n",
    "5. Security Risks : Mostly threats from unlawful interference including terrorism and cyber-security breaches\n",
    "6. "
   ]
  },
  {
   "cell_type": "markdown",
   "id": "b329b51b-fb9c-4f56-be9c-e58fed6e0fa3",
   "metadata": {},
   "source": [
    "#### Data source and presentations \n",
    "1. We used data from kaggle :https://www.kaggle.com/datasets/khsamaha/aviation-accident-database-synopses\n",
    "2. Non-Technical presentations , refer to :\n",
    "3. tableau presentations , refer to :"
   ]
  },
  {
   "cell_type": "markdown",
   "id": "3fc228f7-14b5-4843-9256-3b355c8bc7e7",
   "metadata": {},
   "source": [
    "### Business Understanding\n",
    "1. Aviation's core business relies on the safety of the passengers , crew and Assets\n",
    "2. Aviation Accidents lead to catastrophic loss of life , severe financial impacts and irreversible reputational damage .\n",
    "\n",
    "A company seeking to venture into aviation industry , speicificaly on purchasing and operating airplanes for commercial or private enterprise need to consider the following :\n",
    "\n",
    "1. Which Aircraft Category is safer compared to others\n",
    "2. What is the trend of aviation accidents with time\n",
    "3. How does engine type affect fatalities and does number of engines affect\n",
    "4. What phase of flight do most accidents occur\n",
    "5. TE environmental risks / weather conditions "
   ]
  },
  {
   "cell_type": "markdown",
   "id": "967f12df-04ac-4ca8-b5a2-86753854e3f4",
   "metadata": {},
   "source": [
    "### OBJECTIVES \n",
    "1. Data understanding\n",
    "2. Exploratory Data Analysis\n",
    "3. Data preparation And Data Cleaning\n",
    "4. Data Visualizations\n",
    "5. Business Recommendations "
   ]
  },
  {
   "cell_type": "markdown",
   "id": "126ba403-fbe3-4f4d-8c56-7c5de55b12d4",
   "metadata": {},
   "source": [
    "### DATA UNDERSTANDING \n",
    "\n",
    "For the project Analysis , we sourced data from from kaggle : Aviation Risk Analysis , Insights from U.S accidents data up to 2022\n",
    "\n",
    "Key columns include :\n",
    "\n",
    "1. Event Date - The date when the accident occured\n",
    "2. Location - the exact location of the accident\n",
    "3. Injury Severity - How critical the injuries were\n",
    "4. Aircraft Damage - The impact of the crash on the plane\n",
    "5. Make - the make or aircraft type\n",
    "6. Engine types in the planes\n",
    "7. Number of the engines in the plane\n",
    "8. Broad phase of flight - Stage of crash occurance\n",
    "9. Weather conditions\n",
    "\n",
    "Among others "
   ]
  },
  {
   "cell_type": "markdown",
   "id": "f602cf2b-7854-4169-a102-44461d7caec2",
   "metadata": {},
   "source": [
    "### 1. LOADING THE DATASET"
   ]
  },
  {
   "cell_type": "markdown",
   "id": "33674e27-fcda-4fe1-9e35-5d48c9868240",
   "metadata": {},
   "source": [
    "#### Importing the neccessary and important python libraries to be used for analysis"
   ]
  },
  {
   "cell_type": "code",
   "execution_count": 78,
   "id": "3a01c471-f4e3-46ab-96cf-f0edff0ec8b4",
   "metadata": {},
   "outputs": [],
   "source": [
    "# import pandas alias \n",
    "import pandas as pd\n",
    "# import numpy alias np\n",
    "import numpy as np\n",
    "# import matplotlib\n",
    "import matplotlib.pyplot as plt\n",
    "%matplotlib inline \n",
    "# import seaborn alias sns \n",
    "import seaborn as sns \n"
   ]
  },
  {
   "cell_type": "code",
   "execution_count": 79,
   "id": "3cbb429b-5739-4bd3-8f4f-b7fbb705f1d8",
   "metadata": {},
   "outputs": [
    {
     "data": {
      "text/html": [
       "<div>\n",
       "<style scoped>\n",
       "    .dataframe tbody tr th:only-of-type {\n",
       "        vertical-align: middle;\n",
       "    }\n",
       "\n",
       "    .dataframe tbody tr th {\n",
       "        vertical-align: top;\n",
       "    }\n",
       "\n",
       "    .dataframe thead th {\n",
       "        text-align: right;\n",
       "    }\n",
       "</style>\n",
       "<table border=\"1\" class=\"dataframe\">\n",
       "  <thead>\n",
       "    <tr style=\"text-align: right;\">\n",
       "      <th></th>\n",
       "      <th>Event.Id</th>\n",
       "      <th>Investigation.Type</th>\n",
       "      <th>Accident.Number</th>\n",
       "      <th>Event.Date</th>\n",
       "      <th>Location</th>\n",
       "      <th>Country</th>\n",
       "      <th>Latitude</th>\n",
       "      <th>Longitude</th>\n",
       "      <th>Airport.Code</th>\n",
       "      <th>Airport.Name</th>\n",
       "      <th>...</th>\n",
       "      <th>Purpose.of.flight</th>\n",
       "      <th>Air.carrier</th>\n",
       "      <th>Total.Fatal.Injuries</th>\n",
       "      <th>Total.Serious.Injuries</th>\n",
       "      <th>Total.Minor.Injuries</th>\n",
       "      <th>Total.Uninjured</th>\n",
       "      <th>Weather.Condition</th>\n",
       "      <th>Broad.phase.of.flight</th>\n",
       "      <th>Report.Status</th>\n",
       "      <th>Publication.Date</th>\n",
       "    </tr>\n",
       "  </thead>\n",
       "  <tbody>\n",
       "    <tr>\n",
       "      <th>0</th>\n",
       "      <td>20001218X45444</td>\n",
       "      <td>Accident</td>\n",
       "      <td>SEA87LA080</td>\n",
       "      <td>1948-10-24</td>\n",
       "      <td>MOOSE CREEK, ID</td>\n",
       "      <td>United States</td>\n",
       "      <td>NaN</td>\n",
       "      <td>NaN</td>\n",
       "      <td>NaN</td>\n",
       "      <td>NaN</td>\n",
       "      <td>...</td>\n",
       "      <td>Personal</td>\n",
       "      <td>NaN</td>\n",
       "      <td>2.0</td>\n",
       "      <td>0.0</td>\n",
       "      <td>0.0</td>\n",
       "      <td>0.0</td>\n",
       "      <td>UNK</td>\n",
       "      <td>Cruise</td>\n",
       "      <td>Probable Cause</td>\n",
       "      <td>NaN</td>\n",
       "    </tr>\n",
       "    <tr>\n",
       "      <th>1</th>\n",
       "      <td>20001218X45447</td>\n",
       "      <td>Accident</td>\n",
       "      <td>LAX94LA336</td>\n",
       "      <td>1962-07-19</td>\n",
       "      <td>BRIDGEPORT, CA</td>\n",
       "      <td>United States</td>\n",
       "      <td>NaN</td>\n",
       "      <td>NaN</td>\n",
       "      <td>NaN</td>\n",
       "      <td>NaN</td>\n",
       "      <td>...</td>\n",
       "      <td>Personal</td>\n",
       "      <td>NaN</td>\n",
       "      <td>4.0</td>\n",
       "      <td>0.0</td>\n",
       "      <td>0.0</td>\n",
       "      <td>0.0</td>\n",
       "      <td>UNK</td>\n",
       "      <td>Unknown</td>\n",
       "      <td>Probable Cause</td>\n",
       "      <td>19-09-1996</td>\n",
       "    </tr>\n",
       "    <tr>\n",
       "      <th>2</th>\n",
       "      <td>20061025X01555</td>\n",
       "      <td>Accident</td>\n",
       "      <td>NYC07LA005</td>\n",
       "      <td>1974-08-30</td>\n",
       "      <td>Saltville, VA</td>\n",
       "      <td>United States</td>\n",
       "      <td>36.922223</td>\n",
       "      <td>-81.878056</td>\n",
       "      <td>NaN</td>\n",
       "      <td>NaN</td>\n",
       "      <td>...</td>\n",
       "      <td>Personal</td>\n",
       "      <td>NaN</td>\n",
       "      <td>3.0</td>\n",
       "      <td>NaN</td>\n",
       "      <td>NaN</td>\n",
       "      <td>NaN</td>\n",
       "      <td>IMC</td>\n",
       "      <td>Cruise</td>\n",
       "      <td>Probable Cause</td>\n",
       "      <td>26-02-2007</td>\n",
       "    </tr>\n",
       "    <tr>\n",
       "      <th>3</th>\n",
       "      <td>20001218X45448</td>\n",
       "      <td>Accident</td>\n",
       "      <td>LAX96LA321</td>\n",
       "      <td>1977-06-19</td>\n",
       "      <td>EUREKA, CA</td>\n",
       "      <td>United States</td>\n",
       "      <td>NaN</td>\n",
       "      <td>NaN</td>\n",
       "      <td>NaN</td>\n",
       "      <td>NaN</td>\n",
       "      <td>...</td>\n",
       "      <td>Personal</td>\n",
       "      <td>NaN</td>\n",
       "      <td>2.0</td>\n",
       "      <td>0.0</td>\n",
       "      <td>0.0</td>\n",
       "      <td>0.0</td>\n",
       "      <td>IMC</td>\n",
       "      <td>Cruise</td>\n",
       "      <td>Probable Cause</td>\n",
       "      <td>12-09-2000</td>\n",
       "    </tr>\n",
       "    <tr>\n",
       "      <th>4</th>\n",
       "      <td>20041105X01764</td>\n",
       "      <td>Accident</td>\n",
       "      <td>CHI79FA064</td>\n",
       "      <td>1979-08-02</td>\n",
       "      <td>Canton, OH</td>\n",
       "      <td>United States</td>\n",
       "      <td>NaN</td>\n",
       "      <td>NaN</td>\n",
       "      <td>NaN</td>\n",
       "      <td>NaN</td>\n",
       "      <td>...</td>\n",
       "      <td>Personal</td>\n",
       "      <td>NaN</td>\n",
       "      <td>1.0</td>\n",
       "      <td>2.0</td>\n",
       "      <td>NaN</td>\n",
       "      <td>0.0</td>\n",
       "      <td>VMC</td>\n",
       "      <td>Approach</td>\n",
       "      <td>Probable Cause</td>\n",
       "      <td>16-04-1980</td>\n",
       "    </tr>\n",
       "    <tr>\n",
       "      <th>5</th>\n",
       "      <td>20170710X52551</td>\n",
       "      <td>Accident</td>\n",
       "      <td>NYC79AA106</td>\n",
       "      <td>1979-09-17</td>\n",
       "      <td>BOSTON, MA</td>\n",
       "      <td>United States</td>\n",
       "      <td>42.445277</td>\n",
       "      <td>-70.758333</td>\n",
       "      <td>NaN</td>\n",
       "      <td>NaN</td>\n",
       "      <td>...</td>\n",
       "      <td>NaN</td>\n",
       "      <td>Air Canada</td>\n",
       "      <td>NaN</td>\n",
       "      <td>NaN</td>\n",
       "      <td>1.0</td>\n",
       "      <td>44.0</td>\n",
       "      <td>VMC</td>\n",
       "      <td>Climb</td>\n",
       "      <td>Probable Cause</td>\n",
       "      <td>19-09-2017</td>\n",
       "    </tr>\n",
       "    <tr>\n",
       "      <th>6</th>\n",
       "      <td>20001218X45446</td>\n",
       "      <td>Accident</td>\n",
       "      <td>CHI81LA106</td>\n",
       "      <td>1981-08-01</td>\n",
       "      <td>COTTON, MN</td>\n",
       "      <td>United States</td>\n",
       "      <td>NaN</td>\n",
       "      <td>NaN</td>\n",
       "      <td>NaN</td>\n",
       "      <td>NaN</td>\n",
       "      <td>...</td>\n",
       "      <td>Personal</td>\n",
       "      <td>NaN</td>\n",
       "      <td>4.0</td>\n",
       "      <td>0.0</td>\n",
       "      <td>0.0</td>\n",
       "      <td>0.0</td>\n",
       "      <td>IMC</td>\n",
       "      <td>Unknown</td>\n",
       "      <td>Probable Cause</td>\n",
       "      <td>06-11-2001</td>\n",
       "    </tr>\n",
       "    <tr>\n",
       "      <th>7</th>\n",
       "      <td>20020909X01562</td>\n",
       "      <td>Accident</td>\n",
       "      <td>SEA82DA022</td>\n",
       "      <td>1982-01-01</td>\n",
       "      <td>PULLMAN, WA</td>\n",
       "      <td>United States</td>\n",
       "      <td>NaN</td>\n",
       "      <td>NaN</td>\n",
       "      <td>NaN</td>\n",
       "      <td>BLACKBURN AG STRIP</td>\n",
       "      <td>...</td>\n",
       "      <td>Personal</td>\n",
       "      <td>NaN</td>\n",
       "      <td>0.0</td>\n",
       "      <td>0.0</td>\n",
       "      <td>0.0</td>\n",
       "      <td>2.0</td>\n",
       "      <td>VMC</td>\n",
       "      <td>Takeoff</td>\n",
       "      <td>Probable Cause</td>\n",
       "      <td>01-01-1982</td>\n",
       "    </tr>\n",
       "    <tr>\n",
       "      <th>8</th>\n",
       "      <td>20020909X01561</td>\n",
       "      <td>Accident</td>\n",
       "      <td>NYC82DA015</td>\n",
       "      <td>1982-01-01</td>\n",
       "      <td>EAST HANOVER, NJ</td>\n",
       "      <td>United States</td>\n",
       "      <td>NaN</td>\n",
       "      <td>NaN</td>\n",
       "      <td>N58</td>\n",
       "      <td>HANOVER</td>\n",
       "      <td>...</td>\n",
       "      <td>Business</td>\n",
       "      <td>NaN</td>\n",
       "      <td>0.0</td>\n",
       "      <td>0.0</td>\n",
       "      <td>0.0</td>\n",
       "      <td>2.0</td>\n",
       "      <td>IMC</td>\n",
       "      <td>Landing</td>\n",
       "      <td>Probable Cause</td>\n",
       "      <td>01-01-1982</td>\n",
       "    </tr>\n",
       "    <tr>\n",
       "      <th>9</th>\n",
       "      <td>20020909X01560</td>\n",
       "      <td>Accident</td>\n",
       "      <td>MIA82DA029</td>\n",
       "      <td>1982-01-01</td>\n",
       "      <td>JACKSONVILLE, FL</td>\n",
       "      <td>United States</td>\n",
       "      <td>NaN</td>\n",
       "      <td>NaN</td>\n",
       "      <td>JAX</td>\n",
       "      <td>JACKSONVILLE INTL</td>\n",
       "      <td>...</td>\n",
       "      <td>Personal</td>\n",
       "      <td>NaN</td>\n",
       "      <td>0.0</td>\n",
       "      <td>0.0</td>\n",
       "      <td>3.0</td>\n",
       "      <td>0.0</td>\n",
       "      <td>IMC</td>\n",
       "      <td>Cruise</td>\n",
       "      <td>Probable Cause</td>\n",
       "      <td>01-01-1982</td>\n",
       "    </tr>\n",
       "  </tbody>\n",
       "</table>\n",
       "<p>10 rows × 31 columns</p>\n",
       "</div>"
      ],
      "text/plain": [
       "         Event.Id Investigation.Type Accident.Number  Event.Date  \\\n",
       "0  20001218X45444           Accident      SEA87LA080  1948-10-24   \n",
       "1  20001218X45447           Accident      LAX94LA336  1962-07-19   \n",
       "2  20061025X01555           Accident      NYC07LA005  1974-08-30   \n",
       "3  20001218X45448           Accident      LAX96LA321  1977-06-19   \n",
       "4  20041105X01764           Accident      CHI79FA064  1979-08-02   \n",
       "5  20170710X52551           Accident      NYC79AA106  1979-09-17   \n",
       "6  20001218X45446           Accident      CHI81LA106  1981-08-01   \n",
       "7  20020909X01562           Accident      SEA82DA022  1982-01-01   \n",
       "8  20020909X01561           Accident      NYC82DA015  1982-01-01   \n",
       "9  20020909X01560           Accident      MIA82DA029  1982-01-01   \n",
       "\n",
       "           Location        Country   Latitude   Longitude Airport.Code  \\\n",
       "0   MOOSE CREEK, ID  United States        NaN         NaN          NaN   \n",
       "1    BRIDGEPORT, CA  United States        NaN         NaN          NaN   \n",
       "2     Saltville, VA  United States  36.922223  -81.878056          NaN   \n",
       "3        EUREKA, CA  United States        NaN         NaN          NaN   \n",
       "4        Canton, OH  United States        NaN         NaN          NaN   \n",
       "5        BOSTON, MA  United States  42.445277  -70.758333          NaN   \n",
       "6        COTTON, MN  United States        NaN         NaN          NaN   \n",
       "7       PULLMAN, WA  United States        NaN         NaN          NaN   \n",
       "8  EAST HANOVER, NJ  United States        NaN         NaN          N58   \n",
       "9  JACKSONVILLE, FL  United States        NaN         NaN          JAX   \n",
       "\n",
       "         Airport.Name  ... Purpose.of.flight Air.carrier Total.Fatal.Injuries  \\\n",
       "0                 NaN  ...          Personal         NaN                  2.0   \n",
       "1                 NaN  ...          Personal         NaN                  4.0   \n",
       "2                 NaN  ...          Personal         NaN                  3.0   \n",
       "3                 NaN  ...          Personal         NaN                  2.0   \n",
       "4                 NaN  ...          Personal         NaN                  1.0   \n",
       "5                 NaN  ...               NaN  Air Canada                  NaN   \n",
       "6                 NaN  ...          Personal         NaN                  4.0   \n",
       "7  BLACKBURN AG STRIP  ...          Personal         NaN                  0.0   \n",
       "8             HANOVER  ...          Business         NaN                  0.0   \n",
       "9   JACKSONVILLE INTL  ...          Personal         NaN                  0.0   \n",
       "\n",
       "  Total.Serious.Injuries Total.Minor.Injuries Total.Uninjured  \\\n",
       "0                    0.0                  0.0             0.0   \n",
       "1                    0.0                  0.0             0.0   \n",
       "2                    NaN                  NaN             NaN   \n",
       "3                    0.0                  0.0             0.0   \n",
       "4                    2.0                  NaN             0.0   \n",
       "5                    NaN                  1.0            44.0   \n",
       "6                    0.0                  0.0             0.0   \n",
       "7                    0.0                  0.0             2.0   \n",
       "8                    0.0                  0.0             2.0   \n",
       "9                    0.0                  3.0             0.0   \n",
       "\n",
       "  Weather.Condition  Broad.phase.of.flight   Report.Status Publication.Date  \n",
       "0               UNK                 Cruise  Probable Cause              NaN  \n",
       "1               UNK                Unknown  Probable Cause       19-09-1996  \n",
       "2               IMC                 Cruise  Probable Cause       26-02-2007  \n",
       "3               IMC                 Cruise  Probable Cause       12-09-2000  \n",
       "4               VMC               Approach  Probable Cause       16-04-1980  \n",
       "5               VMC                  Climb  Probable Cause       19-09-2017  \n",
       "6               IMC                Unknown  Probable Cause       06-11-2001  \n",
       "7               VMC                Takeoff  Probable Cause       01-01-1982  \n",
       "8               IMC                Landing  Probable Cause       01-01-1982  \n",
       "9               IMC                 Cruise  Probable Cause       01-01-1982  \n",
       "\n",
       "[10 rows x 31 columns]"
      ]
     },
     "execution_count": 79,
     "metadata": {},
     "output_type": "execute_result"
    }
   ],
   "source": [
    "# Reading the datset csv file as df  \n",
    "df = pd.read_csv(\"AviationData.csv\",encoding='latin1',low_memory=False)\n",
    "# print the first 10 columns of the dataset\n",
    "df.head(10)"
   ]
  },
  {
   "cell_type": "markdown",
   "id": "f04bf453-ab0d-45ed-bc23-7834e5c92629",
   "metadata": {},
   "source": [
    "##### UNDERSTANDING OUR DATA df"
   ]
  },
  {
   "cell_type": "code",
   "execution_count": 80,
   "id": "e7faa898-7a38-4955-92b2-1036283bbd57",
   "metadata": {},
   "outputs": [
    {
     "data": {
      "text/plain": [
       "(88889, 31)"
      ]
     },
     "execution_count": 80,
     "metadata": {},
     "output_type": "execute_result"
    }
   ],
   "source": [
    "# checking for size and Dimensionality of the data\n",
    "df.shape"
   ]
  },
  {
   "cell_type": "code",
   "execution_count": 81,
   "id": "48feeb23-c503-4066-8f94-c03961a24295",
   "metadata": {},
   "outputs": [
    {
     "data": {
      "text/plain": [
       "0        False\n",
       "1        False\n",
       "2        False\n",
       "3        False\n",
       "4        False\n",
       "         ...  \n",
       "88884    False\n",
       "88885    False\n",
       "88886    False\n",
       "88887    False\n",
       "88888    False\n",
       "Length: 88889, dtype: bool"
      ]
     },
     "execution_count": 81,
     "metadata": {},
     "output_type": "execute_result"
    }
   ],
   "source": [
    "# checking for duplicates \n",
    "df.duplicated()"
   ]
  },
  {
   "cell_type": "code",
   "execution_count": 82,
   "id": "82e65360-421b-4c81-a262-fe8b06464094",
   "metadata": {},
   "outputs": [
    {
     "data": {
      "text/plain": [
       "0"
      ]
     },
     "execution_count": 82,
     "metadata": {},
     "output_type": "execute_result"
    }
   ],
   "source": [
    "# duplicated sums \n",
    "df.duplicated().sum()"
   ]
  },
  {
   "cell_type": "raw",
   "id": "f9a8c808-9ea8-4f3e-852a-0c98e6673fa6",
   "metadata": {},
   "source": [
    "WE HAVE NO DUPLICATES IN OUR DATA"
   ]
  },
  {
   "cell_type": "code",
   "execution_count": 83,
   "id": "4f57e435-11f5-403d-a4f6-3da1c74fbde9",
   "metadata": {},
   "outputs": [
    {
     "name": "stdout",
     "output_type": "stream",
     "text": [
      "<class 'pandas.core.frame.DataFrame'>\n",
      "RangeIndex: 88889 entries, 0 to 88888\n",
      "Data columns (total 31 columns):\n",
      " #   Column                  Non-Null Count  Dtype  \n",
      "---  ------                  --------------  -----  \n",
      " 0   Event.Id                88889 non-null  object \n",
      " 1   Investigation.Type      88889 non-null  object \n",
      " 2   Accident.Number         88889 non-null  object \n",
      " 3   Event.Date              88889 non-null  object \n",
      " 4   Location                88837 non-null  object \n",
      " 5   Country                 88663 non-null  object \n",
      " 6   Latitude                34382 non-null  object \n",
      " 7   Longitude               34373 non-null  object \n",
      " 8   Airport.Code            50132 non-null  object \n",
      " 9   Airport.Name            52704 non-null  object \n",
      " 10  Injury.Severity         87889 non-null  object \n",
      " 11  Aircraft.damage         85695 non-null  object \n",
      " 12  Aircraft.Category       32287 non-null  object \n",
      " 13  Registration.Number     87507 non-null  object \n",
      " 14  Make                    88826 non-null  object \n",
      " 15  Model                   88797 non-null  object \n",
      " 16  Amateur.Built           88787 non-null  object \n",
      " 17  Number.of.Engines       82805 non-null  float64\n",
      " 18  Engine.Type             81793 non-null  object \n",
      " 19  FAR.Description         32023 non-null  object \n",
      " 20  Schedule                12582 non-null  object \n",
      " 21  Purpose.of.flight       82697 non-null  object \n",
      " 22  Air.carrier             16648 non-null  object \n",
      " 23  Total.Fatal.Injuries    77488 non-null  float64\n",
      " 24  Total.Serious.Injuries  76379 non-null  float64\n",
      " 25  Total.Minor.Injuries    76956 non-null  float64\n",
      " 26  Total.Uninjured         82977 non-null  float64\n",
      " 27  Weather.Condition       84397 non-null  object \n",
      " 28  Broad.phase.of.flight   61724 non-null  object \n",
      " 29  Report.Status           82505 non-null  object \n",
      " 30  Publication.Date        75118 non-null  object \n",
      "dtypes: float64(5), object(26)\n",
      "memory usage: 21.0+ MB\n"
     ]
    }
   ],
   "source": [
    "# CONCISE SUMMARY OF THE DATA \n",
    "df.info()"
   ]
  },
  {
   "cell_type": "raw",
   "id": "f5f94c4e-a6ed-4cf0-8aaa-1801f36dcbbb",
   "metadata": {},
   "source": [
    " WE ARE ABLE TO CHECK THE DATA TYPE OF EACH COLUMN AND NULL VALUES FROM EACH\n",
    "IT ALSO PROVIDES THE TOTAL MEMORY USAGE "
   ]
  },
  {
   "cell_type": "code",
   "execution_count": 84,
   "id": "af145885-b121-4901-9795-42dc4434a7a9",
   "metadata": {},
   "outputs": [
    {
     "data": {
      "text/plain": [
       "['Event.Id',\n",
       " 'Investigation.Type',\n",
       " 'Accident.Number',\n",
       " 'Event.Date',\n",
       " 'Location',\n",
       " 'Country',\n",
       " 'Latitude',\n",
       " 'Longitude',\n",
       " 'Airport.Code',\n",
       " 'Airport.Name',\n",
       " 'Injury.Severity',\n",
       " 'Aircraft.damage',\n",
       " 'Aircraft.Category',\n",
       " 'Registration.Number',\n",
       " 'Make',\n",
       " 'Model',\n",
       " 'Amateur.Built',\n",
       " 'Number.of.Engines',\n",
       " 'Engine.Type',\n",
       " 'FAR.Description',\n",
       " 'Schedule',\n",
       " 'Purpose.of.flight',\n",
       " 'Air.carrier',\n",
       " 'Total.Fatal.Injuries',\n",
       " 'Total.Serious.Injuries',\n",
       " 'Total.Minor.Injuries',\n",
       " 'Total.Uninjured',\n",
       " 'Weather.Condition',\n",
       " 'Broad.phase.of.flight',\n",
       " 'Report.Status',\n",
       " 'Publication.Date']"
      ]
     },
     "execution_count": 84,
     "metadata": {},
     "output_type": "execute_result"
    }
   ],
   "source": [
    "# Calling column names\n",
    "df.columns.tolist() # viewing them in a python list format"
   ]
  },
  {
   "cell_type": "code",
   "execution_count": 85,
   "id": "3284d12a-c6be-48e7-8ae6-54538d61a60c",
   "metadata": {},
   "outputs": [
    {
     "data": {
      "text/html": [
       "<div>\n",
       "<style scoped>\n",
       "    .dataframe tbody tr th:only-of-type {\n",
       "        vertical-align: middle;\n",
       "    }\n",
       "\n",
       "    .dataframe tbody tr th {\n",
       "        vertical-align: top;\n",
       "    }\n",
       "\n",
       "    .dataframe thead th {\n",
       "        text-align: right;\n",
       "    }\n",
       "</style>\n",
       "<table border=\"1\" class=\"dataframe\">\n",
       "  <thead>\n",
       "    <tr style=\"text-align: right;\">\n",
       "      <th></th>\n",
       "      <th>Number.of.Engines</th>\n",
       "      <th>Total.Fatal.Injuries</th>\n",
       "      <th>Total.Serious.Injuries</th>\n",
       "      <th>Total.Minor.Injuries</th>\n",
       "      <th>Total.Uninjured</th>\n",
       "    </tr>\n",
       "  </thead>\n",
       "  <tbody>\n",
       "    <tr>\n",
       "      <th>count</th>\n",
       "      <td>82805.000000</td>\n",
       "      <td>77488.000000</td>\n",
       "      <td>76379.000000</td>\n",
       "      <td>76956.000000</td>\n",
       "      <td>82977.000000</td>\n",
       "    </tr>\n",
       "    <tr>\n",
       "      <th>mean</th>\n",
       "      <td>1.146585</td>\n",
       "      <td>0.647855</td>\n",
       "      <td>0.279881</td>\n",
       "      <td>0.357061</td>\n",
       "      <td>5.325440</td>\n",
       "    </tr>\n",
       "    <tr>\n",
       "      <th>std</th>\n",
       "      <td>0.446510</td>\n",
       "      <td>5.485960</td>\n",
       "      <td>1.544084</td>\n",
       "      <td>2.235625</td>\n",
       "      <td>27.913634</td>\n",
       "    </tr>\n",
       "    <tr>\n",
       "      <th>min</th>\n",
       "      <td>0.000000</td>\n",
       "      <td>0.000000</td>\n",
       "      <td>0.000000</td>\n",
       "      <td>0.000000</td>\n",
       "      <td>0.000000</td>\n",
       "    </tr>\n",
       "    <tr>\n",
       "      <th>25%</th>\n",
       "      <td>1.000000</td>\n",
       "      <td>0.000000</td>\n",
       "      <td>0.000000</td>\n",
       "      <td>0.000000</td>\n",
       "      <td>0.000000</td>\n",
       "    </tr>\n",
       "    <tr>\n",
       "      <th>50%</th>\n",
       "      <td>1.000000</td>\n",
       "      <td>0.000000</td>\n",
       "      <td>0.000000</td>\n",
       "      <td>0.000000</td>\n",
       "      <td>1.000000</td>\n",
       "    </tr>\n",
       "    <tr>\n",
       "      <th>75%</th>\n",
       "      <td>1.000000</td>\n",
       "      <td>0.000000</td>\n",
       "      <td>0.000000</td>\n",
       "      <td>0.000000</td>\n",
       "      <td>2.000000</td>\n",
       "    </tr>\n",
       "    <tr>\n",
       "      <th>max</th>\n",
       "      <td>8.000000</td>\n",
       "      <td>349.000000</td>\n",
       "      <td>161.000000</td>\n",
       "      <td>380.000000</td>\n",
       "      <td>699.000000</td>\n",
       "    </tr>\n",
       "  </tbody>\n",
       "</table>\n",
       "</div>"
      ],
      "text/plain": [
       "       Number.of.Engines  Total.Fatal.Injuries  Total.Serious.Injuries  \\\n",
       "count       82805.000000          77488.000000            76379.000000   \n",
       "mean            1.146585              0.647855                0.279881   \n",
       "std             0.446510              5.485960                1.544084   \n",
       "min             0.000000              0.000000                0.000000   \n",
       "25%             1.000000              0.000000                0.000000   \n",
       "50%             1.000000              0.000000                0.000000   \n",
       "75%             1.000000              0.000000                0.000000   \n",
       "max             8.000000            349.000000              161.000000   \n",
       "\n",
       "       Total.Minor.Injuries  Total.Uninjured  \n",
       "count          76956.000000     82977.000000  \n",
       "mean               0.357061         5.325440  \n",
       "std                2.235625        27.913634  \n",
       "min                0.000000         0.000000  \n",
       "25%                0.000000         0.000000  \n",
       "50%                0.000000         1.000000  \n",
       "75%                0.000000         2.000000  \n",
       "max              380.000000       699.000000  "
      ]
     },
     "execution_count": 85,
     "metadata": {},
     "output_type": "execute_result"
    }
   ],
   "source": [
    "# SUMMARY STATISTICS \n",
    "# Aids in potential identication of outliers \n",
    "df.describe()"
   ]
  },
  {
   "cell_type": "code",
   "execution_count": 86,
   "id": "0c5c70e6-2feb-4cc2-ab71-c8d49a604a12",
   "metadata": {},
   "outputs": [
    {
     "data": {
      "text/html": [
       "<div>\n",
       "<style scoped>\n",
       "    .dataframe tbody tr th:only-of-type {\n",
       "        vertical-align: middle;\n",
       "    }\n",
       "\n",
       "    .dataframe tbody tr th {\n",
       "        vertical-align: top;\n",
       "    }\n",
       "\n",
       "    .dataframe thead th {\n",
       "        text-align: right;\n",
       "    }\n",
       "</style>\n",
       "<table border=\"1\" class=\"dataframe\">\n",
       "  <thead>\n",
       "    <tr style=\"text-align: right;\">\n",
       "      <th></th>\n",
       "      <th>Event.Id</th>\n",
       "      <th>Investigation.Type</th>\n",
       "      <th>Accident.Number</th>\n",
       "      <th>Event.Date</th>\n",
       "      <th>Location</th>\n",
       "      <th>Country</th>\n",
       "      <th>Latitude</th>\n",
       "      <th>Longitude</th>\n",
       "      <th>Airport.Code</th>\n",
       "      <th>Airport.Name</th>\n",
       "      <th>...</th>\n",
       "      <th>Purpose.of.flight</th>\n",
       "      <th>Air.carrier</th>\n",
       "      <th>Total.Fatal.Injuries</th>\n",
       "      <th>Total.Serious.Injuries</th>\n",
       "      <th>Total.Minor.Injuries</th>\n",
       "      <th>Total.Uninjured</th>\n",
       "      <th>Weather.Condition</th>\n",
       "      <th>Broad.phase.of.flight</th>\n",
       "      <th>Report.Status</th>\n",
       "      <th>Publication.Date</th>\n",
       "    </tr>\n",
       "  </thead>\n",
       "  <tbody>\n",
       "    <tr>\n",
       "      <th>0</th>\n",
       "      <td>False</td>\n",
       "      <td>False</td>\n",
       "      <td>False</td>\n",
       "      <td>False</td>\n",
       "      <td>False</td>\n",
       "      <td>False</td>\n",
       "      <td>True</td>\n",
       "      <td>True</td>\n",
       "      <td>True</td>\n",
       "      <td>True</td>\n",
       "      <td>...</td>\n",
       "      <td>False</td>\n",
       "      <td>True</td>\n",
       "      <td>False</td>\n",
       "      <td>False</td>\n",
       "      <td>False</td>\n",
       "      <td>False</td>\n",
       "      <td>False</td>\n",
       "      <td>False</td>\n",
       "      <td>False</td>\n",
       "      <td>True</td>\n",
       "    </tr>\n",
       "    <tr>\n",
       "      <th>1</th>\n",
       "      <td>False</td>\n",
       "      <td>False</td>\n",
       "      <td>False</td>\n",
       "      <td>False</td>\n",
       "      <td>False</td>\n",
       "      <td>False</td>\n",
       "      <td>True</td>\n",
       "      <td>True</td>\n",
       "      <td>True</td>\n",
       "      <td>True</td>\n",
       "      <td>...</td>\n",
       "      <td>False</td>\n",
       "      <td>True</td>\n",
       "      <td>False</td>\n",
       "      <td>False</td>\n",
       "      <td>False</td>\n",
       "      <td>False</td>\n",
       "      <td>False</td>\n",
       "      <td>False</td>\n",
       "      <td>False</td>\n",
       "      <td>False</td>\n",
       "    </tr>\n",
       "    <tr>\n",
       "      <th>2</th>\n",
       "      <td>False</td>\n",
       "      <td>False</td>\n",
       "      <td>False</td>\n",
       "      <td>False</td>\n",
       "      <td>False</td>\n",
       "      <td>False</td>\n",
       "      <td>False</td>\n",
       "      <td>False</td>\n",
       "      <td>True</td>\n",
       "      <td>True</td>\n",
       "      <td>...</td>\n",
       "      <td>False</td>\n",
       "      <td>True</td>\n",
       "      <td>False</td>\n",
       "      <td>True</td>\n",
       "      <td>True</td>\n",
       "      <td>True</td>\n",
       "      <td>False</td>\n",
       "      <td>False</td>\n",
       "      <td>False</td>\n",
       "      <td>False</td>\n",
       "    </tr>\n",
       "    <tr>\n",
       "      <th>3</th>\n",
       "      <td>False</td>\n",
       "      <td>False</td>\n",
       "      <td>False</td>\n",
       "      <td>False</td>\n",
       "      <td>False</td>\n",
       "      <td>False</td>\n",
       "      <td>True</td>\n",
       "      <td>True</td>\n",
       "      <td>True</td>\n",
       "      <td>True</td>\n",
       "      <td>...</td>\n",
       "      <td>False</td>\n",
       "      <td>True</td>\n",
       "      <td>False</td>\n",
       "      <td>False</td>\n",
       "      <td>False</td>\n",
       "      <td>False</td>\n",
       "      <td>False</td>\n",
       "      <td>False</td>\n",
       "      <td>False</td>\n",
       "      <td>False</td>\n",
       "    </tr>\n",
       "    <tr>\n",
       "      <th>4</th>\n",
       "      <td>False</td>\n",
       "      <td>False</td>\n",
       "      <td>False</td>\n",
       "      <td>False</td>\n",
       "      <td>False</td>\n",
       "      <td>False</td>\n",
       "      <td>True</td>\n",
       "      <td>True</td>\n",
       "      <td>True</td>\n",
       "      <td>True</td>\n",
       "      <td>...</td>\n",
       "      <td>False</td>\n",
       "      <td>True</td>\n",
       "      <td>False</td>\n",
       "      <td>False</td>\n",
       "      <td>True</td>\n",
       "      <td>False</td>\n",
       "      <td>False</td>\n",
       "      <td>False</td>\n",
       "      <td>False</td>\n",
       "      <td>False</td>\n",
       "    </tr>\n",
       "    <tr>\n",
       "      <th>...</th>\n",
       "      <td>...</td>\n",
       "      <td>...</td>\n",
       "      <td>...</td>\n",
       "      <td>...</td>\n",
       "      <td>...</td>\n",
       "      <td>...</td>\n",
       "      <td>...</td>\n",
       "      <td>...</td>\n",
       "      <td>...</td>\n",
       "      <td>...</td>\n",
       "      <td>...</td>\n",
       "      <td>...</td>\n",
       "      <td>...</td>\n",
       "      <td>...</td>\n",
       "      <td>...</td>\n",
       "      <td>...</td>\n",
       "      <td>...</td>\n",
       "      <td>...</td>\n",
       "      <td>...</td>\n",
       "      <td>...</td>\n",
       "      <td>...</td>\n",
       "    </tr>\n",
       "    <tr>\n",
       "      <th>88884</th>\n",
       "      <td>False</td>\n",
       "      <td>False</td>\n",
       "      <td>False</td>\n",
       "      <td>False</td>\n",
       "      <td>False</td>\n",
       "      <td>False</td>\n",
       "      <td>True</td>\n",
       "      <td>True</td>\n",
       "      <td>True</td>\n",
       "      <td>True</td>\n",
       "      <td>...</td>\n",
       "      <td>False</td>\n",
       "      <td>True</td>\n",
       "      <td>False</td>\n",
       "      <td>False</td>\n",
       "      <td>False</td>\n",
       "      <td>False</td>\n",
       "      <td>True</td>\n",
       "      <td>True</td>\n",
       "      <td>True</td>\n",
       "      <td>False</td>\n",
       "    </tr>\n",
       "    <tr>\n",
       "      <th>88885</th>\n",
       "      <td>False</td>\n",
       "      <td>False</td>\n",
       "      <td>False</td>\n",
       "      <td>False</td>\n",
       "      <td>False</td>\n",
       "      <td>False</td>\n",
       "      <td>True</td>\n",
       "      <td>True</td>\n",
       "      <td>True</td>\n",
       "      <td>True</td>\n",
       "      <td>...</td>\n",
       "      <td>True</td>\n",
       "      <td>True</td>\n",
       "      <td>False</td>\n",
       "      <td>False</td>\n",
       "      <td>False</td>\n",
       "      <td>False</td>\n",
       "      <td>True</td>\n",
       "      <td>True</td>\n",
       "      <td>True</td>\n",
       "      <td>True</td>\n",
       "    </tr>\n",
       "    <tr>\n",
       "      <th>88886</th>\n",
       "      <td>False</td>\n",
       "      <td>False</td>\n",
       "      <td>False</td>\n",
       "      <td>False</td>\n",
       "      <td>False</td>\n",
       "      <td>False</td>\n",
       "      <td>False</td>\n",
       "      <td>False</td>\n",
       "      <td>False</td>\n",
       "      <td>False</td>\n",
       "      <td>...</td>\n",
       "      <td>False</td>\n",
       "      <td>True</td>\n",
       "      <td>False</td>\n",
       "      <td>False</td>\n",
       "      <td>False</td>\n",
       "      <td>False</td>\n",
       "      <td>False</td>\n",
       "      <td>True</td>\n",
       "      <td>True</td>\n",
       "      <td>False</td>\n",
       "    </tr>\n",
       "    <tr>\n",
       "      <th>88887</th>\n",
       "      <td>False</td>\n",
       "      <td>False</td>\n",
       "      <td>False</td>\n",
       "      <td>False</td>\n",
       "      <td>False</td>\n",
       "      <td>False</td>\n",
       "      <td>True</td>\n",
       "      <td>True</td>\n",
       "      <td>True</td>\n",
       "      <td>True</td>\n",
       "      <td>...</td>\n",
       "      <td>False</td>\n",
       "      <td>False</td>\n",
       "      <td>False</td>\n",
       "      <td>False</td>\n",
       "      <td>False</td>\n",
       "      <td>False</td>\n",
       "      <td>True</td>\n",
       "      <td>True</td>\n",
       "      <td>True</td>\n",
       "      <td>True</td>\n",
       "    </tr>\n",
       "    <tr>\n",
       "      <th>88888</th>\n",
       "      <td>False</td>\n",
       "      <td>False</td>\n",
       "      <td>False</td>\n",
       "      <td>False</td>\n",
       "      <td>False</td>\n",
       "      <td>False</td>\n",
       "      <td>True</td>\n",
       "      <td>True</td>\n",
       "      <td>True</td>\n",
       "      <td>True</td>\n",
       "      <td>...</td>\n",
       "      <td>False</td>\n",
       "      <td>True</td>\n",
       "      <td>False</td>\n",
       "      <td>False</td>\n",
       "      <td>False</td>\n",
       "      <td>False</td>\n",
       "      <td>True</td>\n",
       "      <td>True</td>\n",
       "      <td>True</td>\n",
       "      <td>False</td>\n",
       "    </tr>\n",
       "  </tbody>\n",
       "</table>\n",
       "<p>88889 rows × 31 columns</p>\n",
       "</div>"
      ],
      "text/plain": [
       "       Event.Id  Investigation.Type  Accident.Number  Event.Date  Location  \\\n",
       "0         False               False            False       False     False   \n",
       "1         False               False            False       False     False   \n",
       "2         False               False            False       False     False   \n",
       "3         False               False            False       False     False   \n",
       "4         False               False            False       False     False   \n",
       "...         ...                 ...              ...         ...       ...   \n",
       "88884     False               False            False       False     False   \n",
       "88885     False               False            False       False     False   \n",
       "88886     False               False            False       False     False   \n",
       "88887     False               False            False       False     False   \n",
       "88888     False               False            False       False     False   \n",
       "\n",
       "       Country  Latitude  Longitude  Airport.Code  Airport.Name  ...  \\\n",
       "0        False      True       True          True          True  ...   \n",
       "1        False      True       True          True          True  ...   \n",
       "2        False     False      False          True          True  ...   \n",
       "3        False      True       True          True          True  ...   \n",
       "4        False      True       True          True          True  ...   \n",
       "...        ...       ...        ...           ...           ...  ...   \n",
       "88884    False      True       True          True          True  ...   \n",
       "88885    False      True       True          True          True  ...   \n",
       "88886    False     False      False         False         False  ...   \n",
       "88887    False      True       True          True          True  ...   \n",
       "88888    False      True       True          True          True  ...   \n",
       "\n",
       "       Purpose.of.flight  Air.carrier  Total.Fatal.Injuries  \\\n",
       "0                  False         True                 False   \n",
       "1                  False         True                 False   \n",
       "2                  False         True                 False   \n",
       "3                  False         True                 False   \n",
       "4                  False         True                 False   \n",
       "...                  ...          ...                   ...   \n",
       "88884              False         True                 False   \n",
       "88885               True         True                 False   \n",
       "88886              False         True                 False   \n",
       "88887              False        False                 False   \n",
       "88888              False         True                 False   \n",
       "\n",
       "       Total.Serious.Injuries  Total.Minor.Injuries  Total.Uninjured  \\\n",
       "0                       False                 False            False   \n",
       "1                       False                 False            False   \n",
       "2                        True                  True             True   \n",
       "3                       False                 False            False   \n",
       "4                       False                  True            False   \n",
       "...                       ...                   ...              ...   \n",
       "88884                   False                 False            False   \n",
       "88885                   False                 False            False   \n",
       "88886                   False                 False            False   \n",
       "88887                   False                 False            False   \n",
       "88888                   False                 False            False   \n",
       "\n",
       "       Weather.Condition  Broad.phase.of.flight  Report.Status  \\\n",
       "0                  False                  False          False   \n",
       "1                  False                  False          False   \n",
       "2                  False                  False          False   \n",
       "3                  False                  False          False   \n",
       "4                  False                  False          False   \n",
       "...                  ...                    ...            ...   \n",
       "88884               True                   True           True   \n",
       "88885               True                   True           True   \n",
       "88886              False                   True           True   \n",
       "88887               True                   True           True   \n",
       "88888               True                   True           True   \n",
       "\n",
       "       Publication.Date  \n",
       "0                  True  \n",
       "1                 False  \n",
       "2                 False  \n",
       "3                 False  \n",
       "4                 False  \n",
       "...                 ...  \n",
       "88884             False  \n",
       "88885              True  \n",
       "88886             False  \n",
       "88887              True  \n",
       "88888             False  \n",
       "\n",
       "[88889 rows x 31 columns]"
      ]
     },
     "execution_count": 86,
     "metadata": {},
     "output_type": "execute_result"
    }
   ],
   "source": [
    "# looking for nan / null values in our data\n",
    "df.isna()\n",
    "# True represents 1 while False represents 0 "
   ]
  },
  {
   "cell_type": "code",
   "execution_count": 87,
   "id": "e7920ae9-b8ea-4ded-9711-3f9b4bca4124",
   "metadata": {},
   "outputs": [
    {
     "data": {
      "text/plain": [
       "Event.Id                   0.00\n",
       "Investigation.Type         0.00\n",
       "Accident.Number            0.00\n",
       "Event.Date                 0.00\n",
       "Location                   0.06\n",
       "Country                    0.25\n",
       "Latitude                  61.32\n",
       "Longitude                 61.33\n",
       "Airport.Code              43.60\n",
       "Airport.Name              40.71\n",
       "Injury.Severity            1.12\n",
       "Aircraft.damage            3.59\n",
       "Aircraft.Category         63.68\n",
       "Registration.Number        1.55\n",
       "Make                       0.07\n",
       "Model                      0.10\n",
       "Amateur.Built              0.11\n",
       "Number.of.Engines          6.84\n",
       "Engine.Type                7.98\n",
       "FAR.Description           63.97\n",
       "Schedule                  85.85\n",
       "Purpose.of.flight          6.97\n",
       "Air.carrier               81.27\n",
       "Total.Fatal.Injuries      12.83\n",
       "Total.Serious.Injuries    14.07\n",
       "Total.Minor.Injuries      13.42\n",
       "Total.Uninjured            6.65\n",
       "Weather.Condition          5.05\n",
       "Broad.phase.of.flight     30.56\n",
       "Report.Status              7.18\n",
       "Publication.Date          15.49\n",
       "dtype: float64"
      ]
     },
     "execution_count": 87,
     "metadata": {},
     "output_type": "execute_result"
    }
   ],
   "source": [
    "# missing value percentage representation\n",
    "missing_percentage = df.isnull().mean()*100\n",
    "# round off to 2 decimal places \n",
    "missing_percentage.round(2)"
   ]
  },
  {
   "cell_type": "raw",
   "id": "cb907600-6fe7-41f9-b95b-fa2d88bfb023",
   "metadata": {},
   "source": [
    "Quite a number of missing values in our dataset "
   ]
  },
  {
   "cell_type": "markdown",
   "id": "7846f92c-1108-4da3-b1e6-1c05af91286a",
   "metadata": {},
   "source": [
    "### 2. DATA PREPARATION AND CLEANING"
   ]
  },
  {
   "cell_type": "code",
   "execution_count": 88,
   "id": "55932c53-7634-4f25-a5fa-8c467cebeaf9",
   "metadata": {},
   "outputs": [],
   "source": [
    "# STANDARDIZING OUR COLUMNS \n",
    "# REPLACING . WITH _ \n",
    "df.columns = df.columns.str.replace('.', '_')"
   ]
  },
  {
   "cell_type": "code",
   "execution_count": 89,
   "id": "89b3b68c-a193-4fd2-b8f1-4dce49343f0c",
   "metadata": {},
   "outputs": [
    {
     "data": {
      "text/plain": [
       "['Event_Id',\n",
       " 'Investigation_Type',\n",
       " 'Accident_Number',\n",
       " 'Event_Date',\n",
       " 'Location',\n",
       " 'Country',\n",
       " 'Latitude',\n",
       " 'Longitude',\n",
       " 'Airport_Code',\n",
       " 'Airport_Name',\n",
       " 'Injury_Severity',\n",
       " 'Aircraft_damage',\n",
       " 'Aircraft_Category',\n",
       " 'Registration_Number',\n",
       " 'Make',\n",
       " 'Model',\n",
       " 'Amateur_Built',\n",
       " 'Number_of_Engines',\n",
       " 'Engine_Type',\n",
       " 'FAR_Description',\n",
       " 'Schedule',\n",
       " 'Purpose_of_flight',\n",
       " 'Air_carrier',\n",
       " 'Total_Fatal_Injuries',\n",
       " 'Total_Serious_Injuries',\n",
       " 'Total_Minor_Injuries',\n",
       " 'Total_Uninjured',\n",
       " 'Weather_Condition',\n",
       " 'Broad_phase_of_flight',\n",
       " 'Report_Status',\n",
       " 'Publication_Date']"
      ]
     },
     "execution_count": 89,
     "metadata": {},
     "output_type": "execute_result"
    }
   ],
   "source": [
    "df.columns.tolist()"
   ]
  },
  {
   "cell_type": "code",
   "execution_count": 90,
   "id": "9dc85187-21b4-41ab-9123-efb30615e62e",
   "metadata": {},
   "outputs": [],
   "source": [
    "# lets pick some relevant columns for objective analysis , assign variable name relevant columns \n",
    "relevant_columns = ['Event_Date', 'Make', 'Model', 'Injury_Severity', 'Total_Fatal_Injuries',\n",
    " 'Total_Serious_Injuries', 'Total_Minor_Injuries', 'Total_Uninjured',\n",
    "  'Purpose_of_flight', 'Aircraft_Category', 'Engine_Type',\n",
    " 'Number_of_Engines','Location', 'Broad_phase_of_flight', 'Country','Weather_Condition']"
   ]
  },
  {
   "cell_type": "code",
   "execution_count": 91,
   "id": "cac4716e-7093-4651-9f8e-f489e667afd8",
   "metadata": {},
   "outputs": [
    {
     "data": {
      "text/html": [
       "<div>\n",
       "<style scoped>\n",
       "    .dataframe tbody tr th:only-of-type {\n",
       "        vertical-align: middle;\n",
       "    }\n",
       "\n",
       "    .dataframe tbody tr th {\n",
       "        vertical-align: top;\n",
       "    }\n",
       "\n",
       "    .dataframe thead th {\n",
       "        text-align: right;\n",
       "    }\n",
       "</style>\n",
       "<table border=\"1\" class=\"dataframe\">\n",
       "  <thead>\n",
       "    <tr style=\"text-align: right;\">\n",
       "      <th></th>\n",
       "      <th>Event_Date</th>\n",
       "      <th>Make</th>\n",
       "      <th>Model</th>\n",
       "      <th>Injury_Severity</th>\n",
       "      <th>Total_Fatal_Injuries</th>\n",
       "      <th>Total_Serious_Injuries</th>\n",
       "      <th>Total_Minor_Injuries</th>\n",
       "      <th>Total_Uninjured</th>\n",
       "      <th>Purpose_of_flight</th>\n",
       "      <th>Aircraft_Category</th>\n",
       "      <th>Engine_Type</th>\n",
       "      <th>Number_of_Engines</th>\n",
       "      <th>Location</th>\n",
       "      <th>Broad_phase_of_flight</th>\n",
       "      <th>Country</th>\n",
       "      <th>Weather_Condition</th>\n",
       "    </tr>\n",
       "  </thead>\n",
       "  <tbody>\n",
       "    <tr>\n",
       "      <th>0</th>\n",
       "      <td>1948-10-24</td>\n",
       "      <td>Stinson</td>\n",
       "      <td>108-3</td>\n",
       "      <td>Fatal(2)</td>\n",
       "      <td>2.0</td>\n",
       "      <td>0.0</td>\n",
       "      <td>0.0</td>\n",
       "      <td>0.0</td>\n",
       "      <td>Personal</td>\n",
       "      <td>NaN</td>\n",
       "      <td>Reciprocating</td>\n",
       "      <td>1.0</td>\n",
       "      <td>MOOSE CREEK, ID</td>\n",
       "      <td>Cruise</td>\n",
       "      <td>United States</td>\n",
       "      <td>UNK</td>\n",
       "    </tr>\n",
       "    <tr>\n",
       "      <th>1</th>\n",
       "      <td>1962-07-19</td>\n",
       "      <td>Piper</td>\n",
       "      <td>PA24-180</td>\n",
       "      <td>Fatal(4)</td>\n",
       "      <td>4.0</td>\n",
       "      <td>0.0</td>\n",
       "      <td>0.0</td>\n",
       "      <td>0.0</td>\n",
       "      <td>Personal</td>\n",
       "      <td>NaN</td>\n",
       "      <td>Reciprocating</td>\n",
       "      <td>1.0</td>\n",
       "      <td>BRIDGEPORT, CA</td>\n",
       "      <td>Unknown</td>\n",
       "      <td>United States</td>\n",
       "      <td>UNK</td>\n",
       "    </tr>\n",
       "    <tr>\n",
       "      <th>2</th>\n",
       "      <td>1974-08-30</td>\n",
       "      <td>Cessna</td>\n",
       "      <td>172M</td>\n",
       "      <td>Fatal(3)</td>\n",
       "      <td>3.0</td>\n",
       "      <td>NaN</td>\n",
       "      <td>NaN</td>\n",
       "      <td>NaN</td>\n",
       "      <td>Personal</td>\n",
       "      <td>NaN</td>\n",
       "      <td>Reciprocating</td>\n",
       "      <td>1.0</td>\n",
       "      <td>Saltville, VA</td>\n",
       "      <td>Cruise</td>\n",
       "      <td>United States</td>\n",
       "      <td>IMC</td>\n",
       "    </tr>\n",
       "    <tr>\n",
       "      <th>3</th>\n",
       "      <td>1977-06-19</td>\n",
       "      <td>Rockwell</td>\n",
       "      <td>112</td>\n",
       "      <td>Fatal(2)</td>\n",
       "      <td>2.0</td>\n",
       "      <td>0.0</td>\n",
       "      <td>0.0</td>\n",
       "      <td>0.0</td>\n",
       "      <td>Personal</td>\n",
       "      <td>NaN</td>\n",
       "      <td>Reciprocating</td>\n",
       "      <td>1.0</td>\n",
       "      <td>EUREKA, CA</td>\n",
       "      <td>Cruise</td>\n",
       "      <td>United States</td>\n",
       "      <td>IMC</td>\n",
       "    </tr>\n",
       "    <tr>\n",
       "      <th>4</th>\n",
       "      <td>1979-08-02</td>\n",
       "      <td>Cessna</td>\n",
       "      <td>501</td>\n",
       "      <td>Fatal(1)</td>\n",
       "      <td>1.0</td>\n",
       "      <td>2.0</td>\n",
       "      <td>NaN</td>\n",
       "      <td>0.0</td>\n",
       "      <td>Personal</td>\n",
       "      <td>NaN</td>\n",
       "      <td>NaN</td>\n",
       "      <td>NaN</td>\n",
       "      <td>Canton, OH</td>\n",
       "      <td>Approach</td>\n",
       "      <td>United States</td>\n",
       "      <td>VMC</td>\n",
       "    </tr>\n",
       "  </tbody>\n",
       "</table>\n",
       "</div>"
      ],
      "text/plain": [
       "   Event_Date      Make     Model Injury_Severity  Total_Fatal_Injuries  \\\n",
       "0  1948-10-24   Stinson     108-3        Fatal(2)                   2.0   \n",
       "1  1962-07-19     Piper  PA24-180        Fatal(4)                   4.0   \n",
       "2  1974-08-30    Cessna      172M        Fatal(3)                   3.0   \n",
       "3  1977-06-19  Rockwell       112        Fatal(2)                   2.0   \n",
       "4  1979-08-02    Cessna       501        Fatal(1)                   1.0   \n",
       "\n",
       "   Total_Serious_Injuries  Total_Minor_Injuries  Total_Uninjured  \\\n",
       "0                     0.0                   0.0              0.0   \n",
       "1                     0.0                   0.0              0.0   \n",
       "2                     NaN                   NaN              NaN   \n",
       "3                     0.0                   0.0              0.0   \n",
       "4                     2.0                   NaN              0.0   \n",
       "\n",
       "  Purpose_of_flight Aircraft_Category    Engine_Type  Number_of_Engines  \\\n",
       "0          Personal               NaN  Reciprocating                1.0   \n",
       "1          Personal               NaN  Reciprocating                1.0   \n",
       "2          Personal               NaN  Reciprocating                1.0   \n",
       "3          Personal               NaN  Reciprocating                1.0   \n",
       "4          Personal               NaN            NaN                NaN   \n",
       "\n",
       "          Location Broad_phase_of_flight        Country Weather_Condition  \n",
       "0  MOOSE CREEK, ID                Cruise  United States               UNK  \n",
       "1   BRIDGEPORT, CA               Unknown  United States               UNK  \n",
       "2    Saltville, VA                Cruise  United States               IMC  \n",
       "3       EUREKA, CA                Cruise  United States               IMC  \n",
       "4       Canton, OH              Approach  United States               VMC  "
      ]
     },
     "execution_count": 91,
     "metadata": {},
     "output_type": "execute_result"
    }
   ],
   "source": [
    "# make a dataframe of the relevant_columns \n",
    "df = df[relevant_columns]\n",
    "df.head()"
   ]
  },
  {
   "cell_type": "code",
   "execution_count": 92,
   "id": "f229c777-ec0a-4d41-bc4a-1e646b90c313",
   "metadata": {},
   "outputs": [
    {
     "data": {
      "text/plain": [
       "Event_Date                 object\n",
       "Make                       object\n",
       "Model                      object\n",
       "Injury_Severity            object\n",
       "Total_Fatal_Injuries      float64\n",
       "Total_Serious_Injuries    float64\n",
       "Total_Minor_Injuries      float64\n",
       "Total_Uninjured           float64\n",
       "Purpose_of_flight          object\n",
       "Aircraft_Category          object\n",
       "Engine_Type                object\n",
       "Number_of_Engines         float64\n",
       "Location                   object\n",
       "Broad_phase_of_flight      object\n",
       "Country                    object\n",
       "Weather_Condition          object\n",
       "dtype: object"
      ]
     },
     "execution_count": 92,
     "metadata": {},
     "output_type": "execute_result"
    }
   ],
   "source": [
    "# check for data types of relevant columns \n",
    "df.dtypes"
   ]
  },
  {
   "cell_type": "code",
   "execution_count": 93,
   "id": "80c43724-d3fd-4581-a427-3d760f50553a",
   "metadata": {},
   "outputs": [
    {
     "data": {
      "text/plain": [
       "(88889, 16)"
      ]
     },
     "execution_count": 93,
     "metadata": {},
     "output_type": "execute_result"
    }
   ],
   "source": [
    "# shape of our new dataset\n",
    "df.shape"
   ]
  },
  {
   "cell_type": "raw",
   "id": "ca5357a8-e7df-451a-af82-5b46477360fd",
   "metadata": {},
   "source": [
    "WE NOW HAVE A REDUCED NUMBER OF COLUMNS TO 18 , ORIGINALLY 31"
   ]
  },
  {
   "cell_type": "code",
   "execution_count": 94,
   "id": "56bf3f3c-0933-46bc-98be-66c6e1f8987d",
   "metadata": {},
   "outputs": [
    {
     "data": {
      "text/plain": [
       "Event_Date                    0\n",
       "Make                         63\n",
       "Model                        92\n",
       "Injury_Severity            1000\n",
       "Total_Fatal_Injuries      11401\n",
       "Total_Serious_Injuries    12510\n",
       "Total_Minor_Injuries      11933\n",
       "Total_Uninjured            5912\n",
       "Purpose_of_flight          6192\n",
       "Aircraft_Category         56602\n",
       "Engine_Type                7096\n",
       "Number_of_Engines          6084\n",
       "Location                     52\n",
       "Broad_phase_of_flight     27165\n",
       "Country                     226\n",
       "Weather_Condition          4492\n",
       "dtype: int64"
      ]
     },
     "execution_count": 94,
     "metadata": {},
     "output_type": "execute_result"
    }
   ],
   "source": [
    "# RE CHECK THE MISSING VALUES IN THE NEW DATASET\n",
    "df.isnull().sum()"
   ]
  },
  {
   "cell_type": "code",
   "execution_count": 95,
   "id": "b685f3d2-c25d-43c4-a94f-c315bf0c2de4",
   "metadata": {},
   "outputs": [
    {
     "data": {
      "text/plain": [
       "Event_Date                 0.00\n",
       "Make                       0.07\n",
       "Model                      0.10\n",
       "Injury_Severity            1.12\n",
       "Total_Fatal_Injuries      12.83\n",
       "Total_Serious_Injuries    14.07\n",
       "Total_Minor_Injuries      13.42\n",
       "Total_Uninjured            6.65\n",
       "Purpose_of_flight          6.97\n",
       "Aircraft_Category         63.68\n",
       "Engine_Type                7.98\n",
       "Number_of_Engines          6.84\n",
       "Location                   0.06\n",
       "Broad_phase_of_flight     30.56\n",
       "Country                    0.25\n",
       "Weather_Condition          5.05\n",
       "dtype: float64"
      ]
     },
     "execution_count": 95,
     "metadata": {},
     "output_type": "execute_result"
    }
   ],
   "source": [
    "# percentage representation \n",
    "percentage = df.isnull().mean()*100\n",
    "# round off to 2 decimal places \n",
    "percentage.round(2)"
   ]
  },
  {
   "cell_type": "markdown",
   "id": "307de02b-8fd9-4484-9f3f-8f22d8aa64e2",
   "metadata": {},
   "source": [
    "##### RELATIONSHIP OF THE NUMERICAL COLUMNS"
   ]
  },
  {
   "cell_type": "code",
   "execution_count": 96,
   "id": "38bddcef-ed83-4b1c-86a6-60c0188711b4",
   "metadata": {},
   "outputs": [],
   "source": [
    "numeric_columns = ['Total_Fatal_Injuries','Total_Serious_Injuries','Total_Minor_Injuries','Total_Uninjured','Number_of_Engines']"
   ]
  },
  {
   "cell_type": "code",
   "execution_count": 97,
   "id": "b46a367f-2f83-479b-a245-580e46ecebec",
   "metadata": {},
   "outputs": [
    {
     "data": {
      "image/png": "[encoded data removed]",
      "text/plain": [
       "<Figure size 1000x600 with 2 Axes>"
      ]
     },
     "metadata": {},
     "output_type": "display_data"
    }
   ],
   "source": [
    "plt.figure(figsize=(10, 6))\n",
    "corr = df[numeric_columns].corr()\n",
    "sns.heatmap(corr, annot=True, cmap='coolwarm',fmt=\".2f\", center=0)\n",
    "plt.title('Correlation Heatmap of Injury Data')\n",
    "plt.tight_layout()\n",
    "plt.show()"
   ]
  },
  {
   "cell_type": "code",
   "execution_count": 98,
   "id": "490ae66e-9049-4187-802e-40f2da8b3856",
   "metadata": {},
   "outputs": [
    {
     "data": {
      "image/png": "[encoded data removed]",
      "text/plain": [
       "<Figure size 1000x800 with 2 Axes>"
      ]
     },
     "metadata": {},
     "output_type": "display_data"
    }
   ],
   "source": [
    "numeric_df = df.select_dtypes(include='number')\n",
    "correlation_matrix = numeric_df.corr(method='pearson')\n",
    "\n",
    "#correlation_matrix = df.corr(method='pearson') # 'pearson' is default\n",
    "plt.figure(figsize=(10, 8)) # Set the size of the plot\n",
    "sns.heatmap(correlation_matrix,\n",
    "            annot=True,     # Show the correlation values on the heatmap\n",
    "            cmap='coolwarm',# Color map (coolwarm is good for positive/negative correlations)\n",
    "            fmt=\".2f\",      # Format the annotations to 2 decimal places\n",
    "            linewidths=.5)  # Add lines between cells for better separation\n",
    "\n",
    "plt.title('Correlation Matrix of Aviation Data Features (Pearson r)')\n",
    "plt.show()"
   ]
  },
  {
   "cell_type": "raw",
   "id": "1c9555a5-9c42-4eda-a9a4-4c6b6122a071",
   "metadata": {},
   "source": [
    "There seems to be a relatively close relationship between the variables "
   ]
  },
  {
   "cell_type": "markdown",
   "id": "fea23306-e291-4697-89db-ae3117960246",
   "metadata": {},
   "source": [
    "#### Statistical Summary\n",
    "\n",
    "1. able to determine the mean , median , count , Quantiles , maximum and minimum values\n",
    "2. potentially identify outliers "
   ]
  },
  {
   "cell_type": "code",
   "execution_count": 99,
   "id": "52ccebaa-7c1b-4a18-a50c-d4e6384197c5",
   "metadata": {},
   "outputs": [
    {
     "data": {
      "text/html": [
       "<div>\n",
       "<style scoped>\n",
       "    .dataframe tbody tr th:only-of-type {\n",
       "        vertical-align: middle;\n",
       "    }\n",
       "\n",
       "    .dataframe tbody tr th {\n",
       "        vertical-align: top;\n",
       "    }\n",
       "\n",
       "    .dataframe thead th {\n",
       "        text-align: right;\n",
       "    }\n",
       "</style>\n",
       "<table border=\"1\" class=\"dataframe\">\n",
       "  <thead>\n",
       "    <tr style=\"text-align: right;\">\n",
       "      <th></th>\n",
       "      <th>Total_Fatal_Injuries</th>\n",
       "      <th>Total_Serious_Injuries</th>\n",
       "      <th>Total_Minor_Injuries</th>\n",
       "      <th>Total_Uninjured</th>\n",
       "      <th>Number_of_Engines</th>\n",
       "    </tr>\n",
       "  </thead>\n",
       "  <tbody>\n",
       "    <tr>\n",
       "      <th>count</th>\n",
       "      <td>77488.000000</td>\n",
       "      <td>76379.000000</td>\n",
       "      <td>76956.000000</td>\n",
       "      <td>82977.000000</td>\n",
       "      <td>82805.000000</td>\n",
       "    </tr>\n",
       "    <tr>\n",
       "      <th>mean</th>\n",
       "      <td>0.647855</td>\n",
       "      <td>0.279881</td>\n",
       "      <td>0.357061</td>\n",
       "      <td>5.325440</td>\n",
       "      <td>1.146585</td>\n",
       "    </tr>\n",
       "    <tr>\n",
       "      <th>std</th>\n",
       "      <td>5.485960</td>\n",
       "      <td>1.544084</td>\n",
       "      <td>2.235625</td>\n",
       "      <td>27.913634</td>\n",
       "      <td>0.446510</td>\n",
       "    </tr>\n",
       "    <tr>\n",
       "      <th>min</th>\n",
       "      <td>0.000000</td>\n",
       "      <td>0.000000</td>\n",
       "      <td>0.000000</td>\n",
       "      <td>0.000000</td>\n",
       "      <td>0.000000</td>\n",
       "    </tr>\n",
       "    <tr>\n",
       "      <th>25%</th>\n",
       "      <td>0.000000</td>\n",
       "      <td>0.000000</td>\n",
       "      <td>0.000000</td>\n",
       "      <td>0.000000</td>\n",
       "      <td>1.000000</td>\n",
       "    </tr>\n",
       "    <tr>\n",
       "      <th>50%</th>\n",
       "      <td>0.000000</td>\n",
       "      <td>0.000000</td>\n",
       "      <td>0.000000</td>\n",
       "      <td>1.000000</td>\n",
       "      <td>1.000000</td>\n",
       "    </tr>\n",
       "    <tr>\n",
       "      <th>75%</th>\n",
       "      <td>0.000000</td>\n",
       "      <td>0.000000</td>\n",
       "      <td>0.000000</td>\n",
       "      <td>2.000000</td>\n",
       "      <td>1.000000</td>\n",
       "    </tr>\n",
       "    <tr>\n",
       "      <th>max</th>\n",
       "      <td>349.000000</td>\n",
       "      <td>161.000000</td>\n",
       "      <td>380.000000</td>\n",
       "      <td>699.000000</td>\n",
       "      <td>8.000000</td>\n",
       "    </tr>\n",
       "  </tbody>\n",
       "</table>\n",
       "</div>"
      ],
      "text/plain": [
       "       Total_Fatal_Injuries  Total_Serious_Injuries  Total_Minor_Injuries  \\\n",
       "count          77488.000000            76379.000000          76956.000000   \n",
       "mean               0.647855                0.279881              0.357061   \n",
       "std                5.485960                1.544084              2.235625   \n",
       "min                0.000000                0.000000              0.000000   \n",
       "25%                0.000000                0.000000              0.000000   \n",
       "50%                0.000000                0.000000              0.000000   \n",
       "75%                0.000000                0.000000              0.000000   \n",
       "max              349.000000              161.000000            380.000000   \n",
       "\n",
       "       Total_Uninjured  Number_of_Engines  \n",
       "count     82977.000000       82805.000000  \n",
       "mean          5.325440           1.146585  \n",
       "std          27.913634           0.446510  \n",
       "min           0.000000           0.000000  \n",
       "25%           0.000000           1.000000  \n",
       "50%           1.000000           1.000000  \n",
       "75%           2.000000           1.000000  \n",
       "max         699.000000           8.000000  "
      ]
     },
     "execution_count": 99,
     "metadata": {},
     "output_type": "execute_result"
    }
   ],
   "source": [
    "# summary statistics \n",
    "df.describe()"
   ]
  },
  {
   "cell_type": "code",
   "execution_count": 100,
   "id": "bd77d892-8e94-4139-9fff-af63d201bcc8",
   "metadata": {},
   "outputs": [],
   "source": [
    "# cleaning the numerical columns\n",
    "\n",
    "df['Total_Fatal_Injuries'] = df['Total_Fatal_Injuries'].fillna(df['Total_Fatal_Injuries'].median())\n",
    "df['Total_Serious_Injuries'] = df['Total_Serious_Injuries'].fillna(df['Total_Serious_Injuries'].median())\n",
    "df['Total_Minor_Injuries'] = df['Total_Minor_Injuries'].fillna(df['Total_Minor_Injuries'].median())\n",
    "df['Total_Uninjured'] = df['Total_Uninjured'].fillna(df['Total_Uninjured'].median())\n"
   ]
  },
  {
   "cell_type": "code",
   "execution_count": 101,
   "id": "7c6037c7-a0fb-4f84-b40e-53712ab3405a",
   "metadata": {},
   "outputs": [
    {
     "data": {
      "text/plain": [
       "Event_Date                 0.000000\n",
       "Make                       0.070875\n",
       "Model                      0.103500\n",
       "Injury_Severity            1.124999\n",
       "Total_Fatal_Injuries       0.000000\n",
       "Total_Serious_Injuries     0.000000\n",
       "Total_Minor_Injuries       0.000000\n",
       "Total_Uninjured            0.000000\n",
       "Purpose_of_flight          6.965991\n",
       "Aircraft_Category         63.677170\n",
       "Engine_Type                7.982990\n",
       "Number_of_Engines          6.844491\n",
       "Location                   0.058500\n",
       "Broad_phase_of_flight     30.560587\n",
       "Country                    0.254250\n",
       "Weather_Condition          5.053494\n",
       "dtype: float64"
      ]
     },
     "execution_count": 101,
     "metadata": {},
     "output_type": "execute_result"
    }
   ],
   "source": [
    "# confirm new percentage of df\n",
    "df.isnull().mean()*100"
   ]
  },
  {
   "cell_type": "code",
   "execution_count": 102,
   "id": "b07109e0-fcc3-4513-b3c4-5f0c189be35e",
   "metadata": {},
   "outputs": [
    {
     "data": {
      "text/plain": [
       "Make\n",
       "Cessna             22227\n",
       "Piper              12029\n",
       "CESSNA              4922\n",
       "Beech               4330\n",
       "PIPER               2841\n",
       "                   ...  \n",
       "Leonard Walters        1\n",
       "Maule Air Inc.         1\n",
       "Motley Vans            1\n",
       "Perlick                1\n",
       "ROYSE RALPH L          1\n",
       "Name: count, Length: 8237, dtype: int64"
      ]
     },
     "execution_count": 102,
     "metadata": {},
     "output_type": "execute_result"
    }
   ],
   "source": [
    "# checking the Make column\n",
    "df['Make'].value_counts()"
   ]
  },
  {
   "cell_type": "raw",
   "id": "80e88acf-a483-47b8-868c-3bcfff8c30e0",
   "metadata": {},
   "source": [
    "WE NOTICE WE HAVE SOME INCONSINTENCIES IN THE MAKE (CESSNA), IT APPEARS TO BE THE SAME AS cessna . \n",
    "there is need to rectify it "
   ]
  },
  {
   "cell_type": "code",
   "execution_count": 103,
   "id": "4c36bddf-51ab-4b59-b33b-b4b737a07f2e",
   "metadata": {},
   "outputs": [
    {
     "data": {
      "text/plain": [
       "0                           stinson\n",
       "1                             piper\n",
       "2                            cessna\n",
       "3                          rockwell\n",
       "4                            cessna\n",
       "                    ...            \n",
       "88884                         piper\n",
       "88885                      bellanca\n",
       "88886    american champion aircraft\n",
       "88887                        cessna\n",
       "88888                         piper\n",
       "Name: Make, Length: 88889, dtype: object"
      ]
     },
     "execution_count": 103,
     "metadata": {},
     "output_type": "execute_result"
    }
   ],
   "source": [
    "# make them to lower case all \n",
    "df['Make'].str.lower().str.strip()"
   ]
  },
  {
   "cell_type": "code",
   "execution_count": 104,
   "id": "805a7e7b-5912-4914-b671-f080a4a040a7",
   "metadata": {},
   "outputs": [
    {
     "data": {
      "text/plain": [
       "8237"
      ]
     },
     "execution_count": 104,
     "metadata": {},
     "output_type": "execute_result"
    }
   ],
   "source": [
    "# checking unique values \n",
    "df['Make'].nunique()"
   ]
  },
  {
   "cell_type": "code",
   "execution_count": 105,
   "id": "5ca9e245-d853-4add-a93a-ea1d34debcb9",
   "metadata": {},
   "outputs": [
    {
     "data": {
      "text/plain": [
       "Make\n",
       "Cessna             22227\n",
       "Piper              12029\n",
       "CESSNA              4922\n",
       "Beech               4330\n",
       "PIPER               2841\n",
       "                   ...  \n",
       "Leonard Walters        1\n",
       "Maule Air Inc.         1\n",
       "Motley Vans            1\n",
       "Perlick                1\n",
       "ROYSE RALPH L          1\n",
       "Name: count, Length: 8237, dtype: int64"
      ]
     },
     "execution_count": 105,
     "metadata": {},
     "output_type": "execute_result"
    }
   ],
   "source": [
    "df['Make'].value_counts()"
   ]
  },
  {
   "cell_type": "code",
   "execution_count": 106,
   "id": "1c924c80-b4fd-45f6-a8f9-140103a83b8a",
   "metadata": {},
   "outputs": [],
   "source": [
    "# dropping the nan values in the column 'Make'\n",
    "df.dropna(subset=['Make'],inplace=True)"
   ]
  },
  {
   "cell_type": "code",
   "execution_count": 107,
   "id": "bddedf94-3c3f-4de5-9811-5beaee732a80",
   "metadata": {},
   "outputs": [
    {
     "data": {
      "text/plain": [
       "Event_Date                 0.000000\n",
       "Make                       0.000000\n",
       "Model                      0.055164\n",
       "Injury_Severity            1.106658\n",
       "Total_Fatal_Injuries       0.000000\n",
       "Total_Serious_Injuries     0.000000\n",
       "Total_Minor_Injuries       0.000000\n",
       "Total_Uninjured            0.000000\n",
       "Purpose_of_flight          6.923648\n",
       "Aircraft_Category         63.664918\n",
       "Engine_Type                7.931236\n",
       "Number_of_Engines          6.794182\n",
       "Location                   0.058541\n",
       "Broad_phase_of_flight     30.523721\n",
       "Country                    0.253304\n",
       "Weather_Condition          5.014298\n",
       "dtype: float64"
      ]
     },
     "execution_count": 107,
     "metadata": {},
     "output_type": "execute_result"
    }
   ],
   "source": [
    "df.isnull().mean()*100"
   ]
  },
  {
   "cell_type": "code",
   "execution_count": 108,
   "id": "b7f9dd05-0718-4300-a005-14e5382598b6",
   "metadata": {},
   "outputs": [
    {
     "data": {
      "text/plain": [
       "0         Fatal(2)\n",
       "1         Fatal(4)\n",
       "2         Fatal(3)\n",
       "3         Fatal(2)\n",
       "4         Fatal(1)\n",
       "           ...    \n",
       "88884        Minor\n",
       "88885    Non-Fatal\n",
       "88886    Non-Fatal\n",
       "88887    Non-Fatal\n",
       "88888        Minor\n",
       "Name: Injury_Severity, Length: 88826, dtype: object"
      ]
     },
     "execution_count": 108,
     "metadata": {},
     "output_type": "execute_result"
    }
   ],
   "source": [
    "# Cleaning 'Injury_Severity'\n",
    "df['Injury_Severity'].mode()\n",
    "df['Injury_Severity'].fillna(df['Injury_Severity'].mode()[0])"
   ]
  },
  {
   "cell_type": "code",
   "execution_count": 109,
   "id": "2cd5be52-a891-4726-85ba-8d33a4de407f",
   "metadata": {},
   "outputs": [
    {
     "data": {
      "text/plain": [
       "Event_Date                 0.000000\n",
       "Make                       0.000000\n",
       "Model                      0.055164\n",
       "Injury_Severity            1.106658\n",
       "Total_Fatal_Injuries       0.000000\n",
       "Total_Serious_Injuries     0.000000\n",
       "Total_Minor_Injuries       0.000000\n",
       "Total_Uninjured            0.000000\n",
       "Purpose_of_flight          6.923648\n",
       "Aircraft_Category         63.664918\n",
       "Engine_Type                7.931236\n",
       "Number_of_Engines          6.794182\n",
       "Location                   0.058541\n",
       "Broad_phase_of_flight     30.523721\n",
       "Country                    0.253304\n",
       "Weather_Condition          5.014298\n",
       "dtype: float64"
      ]
     },
     "execution_count": 109,
     "metadata": {},
     "output_type": "execute_result"
    }
   ],
   "source": [
    "df.isnull().mean()*100"
   ]
  },
  {
   "cell_type": "code",
   "execution_count": 110,
   "id": "d3715327-c17e-4167-8b8c-fd571e01b72b",
   "metadata": {},
   "outputs": [
    {
     "data": {
      "text/plain": [
       "Event_Date                 0.000000\n",
       "Make                       0.000000\n",
       "Model                      0.000000\n",
       "Injury_Severity            1.102763\n",
       "Total_Fatal_Injuries       0.000000\n",
       "Total_Serious_Injuries     0.000000\n",
       "Total_Minor_Injuries       0.000000\n",
       "Total_Uninjured            0.000000\n",
       "Purpose_of_flight          6.913953\n",
       "Aircraft_Category         63.678656\n",
       "Engine_Type                7.913086\n",
       "Number_of_Engines          6.784415\n",
       "Location                   0.058574\n",
       "Broad_phase_of_flight     30.519166\n",
       "Country                    0.253444\n",
       "Weather_Condition          5.000169\n",
       "dtype: float64"
      ]
     },
     "execution_count": 110,
     "metadata": {},
     "output_type": "execute_result"
    }
   ],
   "source": [
    "# cleaning MODEL\n",
    "df.dropna(subset=['Model'],inplace=True)\n",
    "df.isnull().mean()*100"
   ]
  },
  {
   "cell_type": "code",
   "execution_count": 111,
   "id": "04f411ba-8655-4ec4-88bd-2baf783b3590",
   "metadata": {},
   "outputs": [
    {
     "data": {
      "text/plain": [
       "Event_Date                 0.000000\n",
       "Make                       0.000000\n",
       "Model                      0.000000\n",
       "Injury_Severity            1.105565\n",
       "Total_Fatal_Injuries       0.000000\n",
       "Total_Serious_Injuries     0.000000\n",
       "Total_Minor_Injuries       0.000000\n",
       "Total_Uninjured            0.000000\n",
       "Purpose_of_flight          6.924745\n",
       "Aircraft_Category         63.599919\n",
       "Engine_Type                7.927545\n",
       "Number_of_Engines          6.793748\n",
       "Location                   0.057593\n",
       "Broad_phase_of_flight     30.585419\n",
       "Country                    0.000000\n",
       "Weather_Condition          5.008357\n",
       "dtype: float64"
      ]
     },
     "execution_count": 111,
     "metadata": {},
     "output_type": "execute_result"
    }
   ],
   "source": [
    "# CLEANING COUNTRY\n",
    "df.dropna(subset=['Country'],inplace=True)\n",
    "df.isnull().mean()*100"
   ]
  },
  {
   "cell_type": "code",
   "execution_count": 112,
   "id": "0d2a329d-0821-4a5a-bd6e-cccc7ddbed50",
   "metadata": {},
   "outputs": [],
   "source": [
    "#CLEANING WEATHER CONDITION"
   ]
  },
  {
   "cell_type": "code",
   "execution_count": 113,
   "id": "fdea4313-1ace-450b-9f74-5f6b69ba7eb5",
   "metadata": {},
   "outputs": [
    {
     "data": {
      "text/plain": [
       "Weather_Condition\n",
       "VMC    77050\n",
       "IMC     5958\n",
       "UNK      847\n",
       "Unk      262\n",
       "Name: count, dtype: int64"
      ]
     },
     "execution_count": 113,
     "metadata": {},
     "output_type": "execute_result"
    }
   ],
   "source": [
    "df['Weather_Condition'].value_counts()"
   ]
  },
  {
   "cell_type": "code",
   "execution_count": 114,
   "id": "74ca4ded-8124-4c70-afee-055c2544069c",
   "metadata": {},
   "outputs": [
    {
     "data": {
      "text/plain": [
       "0        UNK\n",
       "1        UNK\n",
       "2        IMC\n",
       "3        IMC\n",
       "4        VMC\n",
       "        ... \n",
       "88884    NaN\n",
       "88885    NaN\n",
       "88886    VMC\n",
       "88887    NaN\n",
       "88888    NaN\n",
       "Name: Weather_Condition, Length: 88552, dtype: object"
      ]
     },
     "execution_count": 114,
     "metadata": {},
     "output_type": "execute_result"
    }
   ],
   "source": [
    "# standardise to upper case \n",
    "df['Weather_Condition'].str.upper().str.strip()"
   ]
  },
  {
   "cell_type": "markdown",
   "id": "c976cf1e-57fe-435b-9a74-89493cb73fcb",
   "metadata": {},
   "source": [
    "##### Weather conditions abbreviations\n",
    "1. VMC stands for: Visual Meteorological Conditions\n",
    "2. IMC stands for: Instrument Meteorological Conditions\n",
    "3. UNK stands for: Unknown / Unreported / Undefined"
   ]
  },
  {
   "cell_type": "code",
   "execution_count": 115,
   "id": "e9c45c75-5d6d-43fe-9fcc-08c9585f036b",
   "metadata": {},
   "outputs": [
    {
     "data": {
      "text/plain": [
       "Event_Date                 0.000000\n",
       "Make                       0.000000\n",
       "Model                      0.000000\n",
       "Injury_Severity            1.105565\n",
       "Total_Fatal_Injuries       0.000000\n",
       "Total_Serious_Injuries     0.000000\n",
       "Total_Minor_Injuries       0.000000\n",
       "Total_Uninjured            0.000000\n",
       "Purpose_of_flight          6.924745\n",
       "Aircraft_Category         63.599919\n",
       "Engine_Type                7.927545\n",
       "Number_of_Engines          6.793748\n",
       "Location                   0.057593\n",
       "Broad_phase_of_flight     30.585419\n",
       "Country                    0.000000\n",
       "Weather_Condition          0.000000\n",
       "dtype: float64"
      ]
     },
     "execution_count": 115,
     "metadata": {},
     "output_type": "execute_result"
    }
   ],
   "source": [
    "# clean nan values with 'not reported'\n",
    "df['Weather_Condition'].replace({np.nan: \"Not_Reported\"},inplace=True)\n",
    "df.isnull().mean()*100"
   ]
  },
  {
   "cell_type": "code",
   "execution_count": 116,
   "id": "d956a745-bd6b-4b21-87c1-a8e6da572e7a",
   "metadata": {},
   "outputs": [
    {
     "data": {
      "text/plain": [
       "array(['UNK', 'IMC', 'VMC', 'Not_Reported', 'Unk'], dtype=object)"
      ]
     },
     "execution_count": 116,
     "metadata": {},
     "output_type": "execute_result"
    }
   ],
   "source": [
    "df['Weather_Condition'].unique()"
   ]
  },
  {
   "cell_type": "code",
   "execution_count": 117,
   "id": "ccbd7ed5-561d-4da9-a90d-240e625ed427",
   "metadata": {},
   "outputs": [],
   "source": [
    "# CLEANING PURPOSE OF FLIGHT"
   ]
  },
  {
   "cell_type": "code",
   "execution_count": 118,
   "id": "50b98fa0-ba48-4af0-897f-5a3234ea4692",
   "metadata": {},
   "outputs": [
    {
     "data": {
      "text/plain": [
       "Purpose_of_flight\n",
       "Personal                     49358\n",
       "Instructional                10588\n",
       "Unknown                       6687\n",
       "Aerial Application            4710\n",
       "Business                      4003\n",
       "Positioning                   1627\n",
       "Other Work Use                1259\n",
       "Ferry                          808\n",
       "Aerial Observation             787\n",
       "Public Aircraft                718\n",
       "Executive/corporate            549\n",
       "Flight Test                    404\n",
       "Skydiving                      182\n",
       "External Load                  123\n",
       "Public Aircraft - Federal      105\n",
       "Banner Tow                     101\n",
       "Air Race show                   99\n",
       "Public Aircraft - Local         74\n",
       "Public Aircraft - State         64\n",
       "Air Race/show                   59\n",
       "Glider Tow                      53\n",
       "Firefighting                    40\n",
       "Air Drop                        11\n",
       "ASHO                             6\n",
       "PUBS                             4\n",
       "PUBL                             1\n",
       "Name: count, dtype: int64"
      ]
     },
     "execution_count": 118,
     "metadata": {},
     "output_type": "execute_result"
    }
   ],
   "source": [
    "df['Purpose_of_flight'].value_counts()"
   ]
  },
  {
   "cell_type": "code",
   "execution_count": 119,
   "id": "2e1c029b-bbb8-49b1-9ecf-c598dff52e75",
   "metadata": {},
   "outputs": [
    {
     "data": {
      "text/plain": [
       "6132"
      ]
     },
     "execution_count": 119,
     "metadata": {},
     "output_type": "execute_result"
    }
   ],
   "source": [
    "df['Purpose_of_flight'].isna().sum()"
   ]
  },
  {
   "cell_type": "code",
   "execution_count": 120,
   "id": "2d57e3d1-289c-43e7-8fc1-505e0e7d10d6",
   "metadata": {},
   "outputs": [
    {
     "data": {
      "text/plain": [
       "88552"
      ]
     },
     "execution_count": 120,
     "metadata": {},
     "output_type": "execute_result"
    }
   ],
   "source": [
    "len(df['Purpose_of_flight'])"
   ]
  },
  {
   "cell_type": "code",
   "execution_count": 121,
   "id": "1000370b-36d2-4aa2-86d7-b94841fea0de",
   "metadata": {},
   "outputs": [
    {
     "data": {
      "text/plain": [
       "Event_Date                 0.000000\n",
       "Make                       0.000000\n",
       "Model                      0.000000\n",
       "Injury_Severity            0.061878\n",
       "Total_Fatal_Injuries       0.000000\n",
       "Total_Serious_Injuries     0.000000\n",
       "Total_Minor_Injuries       0.000000\n",
       "Total_Uninjured            0.000000\n",
       "Purpose_of_flight          0.000000\n",
       "Aircraft_Category         66.277603\n",
       "Engine_Type                4.525601\n",
       "Number_of_Engines          3.783062\n",
       "Location                   0.049745\n",
       "Broad_phase_of_flight     26.748362\n",
       "Country                    0.000000\n",
       "Weather_Condition          0.000000\n",
       "dtype: float64"
      ]
     },
     "execution_count": 121,
     "metadata": {},
     "output_type": "execute_result"
    }
   ],
   "source": [
    "# drop the null values \n",
    "df.dropna(subset=['Purpose_of_flight'],inplace=True)\n",
    "df.isnull().mean()*100"
   ]
  },
  {
   "cell_type": "code",
   "execution_count": 122,
   "id": "8a479fca-dc2d-4674-ab76-f175d3fcfc77",
   "metadata": {},
   "outputs": [
    {
     "data": {
      "text/plain": [
       "Event_Date                 0.000000\n",
       "Make                       0.000000\n",
       "Model                      0.000000\n",
       "Injury_Severity            0.061909\n",
       "Total_Fatal_Injuries       0.000000\n",
       "Total_Serious_Injuries     0.000000\n",
       "Total_Minor_Injuries       0.000000\n",
       "Total_Uninjured            0.000000\n",
       "Purpose_of_flight          0.000000\n",
       "Aircraft_Category         66.270530\n",
       "Engine_Type                4.526639\n",
       "Number_of_Engines          3.757025\n",
       "Location                   0.000000\n",
       "Broad_phase_of_flight     26.724044\n",
       "Country                    0.000000\n",
       "Weather_Condition          0.000000\n",
       "dtype: float64"
      ]
     },
     "execution_count": 122,
     "metadata": {},
     "output_type": "execute_result"
    }
   ],
   "source": [
    "#CLEANING LOCATION\n",
    "df.dropna(subset=['Location'],inplace=True)\n",
    "df.isnull().mean()*100"
   ]
  },
  {
   "cell_type": "code",
   "execution_count": 123,
   "id": "a906704a-b58a-4952-8c98-2199426a054c",
   "metadata": {},
   "outputs": [],
   "source": [
    "# CLEANING BROAD PHASE OF FLIGHT"
   ]
  },
  {
   "cell_type": "code",
   "execution_count": 124,
   "id": "6ace9ec3-2285-4eaa-8e8c-b19e058ad95a",
   "metadata": {},
   "outputs": [],
   "source": [
    "# BROAD PHASE OF FLIGHT IS CRUCIAL FOR ACCURATE ANALYSIS "
   ]
  },
  {
   "cell_type": "code",
   "execution_count": 125,
   "id": "3a7fa83f-d663-4251-b5a4-48ec9145b0aa",
   "metadata": {},
   "outputs": [
    {
     "data": {
      "text/plain": [
       "<bound method Series.unique of 0          Cruise\n",
       "1         Unknown\n",
       "2          Cruise\n",
       "3          Cruise\n",
       "4        Approach\n",
       "           ...   \n",
       "88882         NaN\n",
       "88884         NaN\n",
       "88886         NaN\n",
       "88887         NaN\n",
       "88888         NaN\n",
       "Name: Broad_phase_of_flight, Length: 82379, dtype: object>"
      ]
     },
     "execution_count": 125,
     "metadata": {},
     "output_type": "execute_result"
    }
   ],
   "source": [
    "# check its uniqueness\n",
    "df['Broad_phase_of_flight'].unique"
   ]
  },
  {
   "cell_type": "code",
   "execution_count": 126,
   "id": "7f70afe3-9559-4647-86d4-6c029c10bbf5",
   "metadata": {},
   "outputs": [
    {
     "data": {
      "text/plain": [
       "Broad_phase_of_flight\n",
       "Landing        15213\n",
       "Takeoff        12247\n",
       "Cruise         10008\n",
       "Maneuvering     8072\n",
       "Approach        6390\n",
       "Climb           1957\n",
       "Descent         1822\n",
       "Taxi            1813\n",
       "Go-around       1343\n",
       "Standing         851\n",
       "Unknown          532\n",
       "Other            116\n",
       "Name: count, dtype: int64"
      ]
     },
     "execution_count": 126,
     "metadata": {},
     "output_type": "execute_result"
    }
   ],
   "source": [
    "# value counts\n",
    "df['Broad_phase_of_flight'].value_counts()"
   ]
  },
  {
   "cell_type": "code",
   "execution_count": 127,
   "id": "da172999-241f-4d12-9d5c-376147677a76",
   "metadata": {},
   "outputs": [
    {
     "data": {
      "text/plain": [
       "Event_Date                 0.000000\n",
       "Make                       0.000000\n",
       "Model                      0.000000\n",
       "Injury_Severity            0.061909\n",
       "Total_Fatal_Injuries       0.000000\n",
       "Total_Serious_Injuries     0.000000\n",
       "Total_Minor_Injuries       0.000000\n",
       "Total_Uninjured            0.000000\n",
       "Purpose_of_flight          0.000000\n",
       "Aircraft_Category         66.270530\n",
       "Engine_Type                4.526639\n",
       "Number_of_Engines          3.757025\n",
       "Location                   0.000000\n",
       "Broad_phase_of_flight      0.000000\n",
       "Country                    0.000000\n",
       "Weather_Condition          0.000000\n",
       "dtype: float64"
      ]
     },
     "execution_count": 127,
     "metadata": {},
     "output_type": "execute_result"
    }
   ],
   "source": [
    "# fill NaN VALUES WITH 'Not reported'\n",
    "df['Broad_phase_of_flight'].fillna((\"Not_Reported\"),inplace=True)\n",
    "df.isnull().mean()*100"
   ]
  },
  {
   "cell_type": "code",
   "execution_count": 128,
   "id": "1267a2fb-db21-41d8-8abd-a081b6adf763",
   "metadata": {},
   "outputs": [],
   "source": [
    "# CLEANING ENGINE TYPE "
   ]
  },
  {
   "cell_type": "code",
   "execution_count": 129,
   "id": "853ffcef-704e-4286-9065-4b6e8acadd5e",
   "metadata": {},
   "outputs": [
    {
     "data": {
      "text/plain": [
       "array(['Reciprocating', nan, 'Turbo Shaft', 'Unknown', 'Turbo Fan',\n",
       "       'Turbo Prop', 'Turbo Jet', 'Electric', 'LR', 'NONE', 'UNK'],\n",
       "      dtype=object)"
      ]
     },
     "execution_count": 129,
     "metadata": {},
     "output_type": "execute_result"
    }
   ],
   "source": [
    "df['Engine_Type'].unique()"
   ]
  },
  {
   "cell_type": "code",
   "execution_count": 130,
   "id": "dcf4c676-e02f-4866-a70a-47afd6df4448",
   "metadata": {},
   "outputs": [
    {
     "data": {
      "text/plain": [
       "Event_Date                 0.000000\n",
       "Make                       0.000000\n",
       "Model                      0.000000\n",
       "Injury_Severity            0.061909\n",
       "Total_Fatal_Injuries       0.000000\n",
       "Total_Serious_Injuries     0.000000\n",
       "Total_Minor_Injuries       0.000000\n",
       "Total_Uninjured            0.000000\n",
       "Purpose_of_flight          0.000000\n",
       "Aircraft_Category         66.270530\n",
       "Engine_Type                4.526639\n",
       "Number_of_Engines          3.757025\n",
       "Location                   0.000000\n",
       "Broad_phase_of_flight      0.000000\n",
       "Country                    0.000000\n",
       "Weather_Condition          0.000000\n",
       "dtype: float64"
      ]
     },
     "execution_count": 130,
     "metadata": {},
     "output_type": "execute_result"
    }
   ],
   "source": [
    "# for the missing values , replace with unspecified\n",
    "df['Engine_Type'].fillna('Unspecified')\n",
    "df.isnull().mean()*100"
   ]
  },
  {
   "cell_type": "code",
   "execution_count": 131,
   "id": "93a1678f-b153-445f-a345-896c3cc59fec",
   "metadata": {},
   "outputs": [
    {
     "data": {
      "text/plain": [
       "array(['Reciprocating', nan, 'Turbo Shaft', 'Unknown', 'Turbo Fan',\n",
       "       'Turbo Prop', 'Turbo Jet', 'Electric', 'LR', 'NONE', 'UNK'],\n",
       "      dtype=object)"
      ]
     },
     "execution_count": 131,
     "metadata": {},
     "output_type": "execute_result"
    }
   ],
   "source": [
    "df['Engine_Type'].unique()"
   ]
  },
  {
   "cell_type": "code",
   "execution_count": 132,
   "id": "8f856a4d-150d-40f0-aa37-2b02d720a764",
   "metadata": {},
   "outputs": [],
   "source": [
    "# CLEANING NUMBER OF ENGINES"
   ]
  },
  {
   "cell_type": "code",
   "execution_count": 133,
   "id": "57a55eed-5b58-49f9-88bb-81998429d992",
   "metadata": {},
   "outputs": [
    {
     "data": {
      "text/plain": [
       "0        1.0\n",
       "1        1.0\n",
       "2        1.0\n",
       "3        1.0\n",
       "4        NaN\n",
       "        ... \n",
       "88882    NaN\n",
       "88884    NaN\n",
       "88886    1.0\n",
       "88887    NaN\n",
       "88888    NaN\n",
       "Name: Number_of_Engines, Length: 82379, dtype: float64"
      ]
     },
     "execution_count": 133,
     "metadata": {},
     "output_type": "execute_result"
    }
   ],
   "source": [
    "df['Number_of_Engines']"
   ]
  },
  {
   "cell_type": "code",
   "execution_count": 134,
   "id": "c781cd04-a5a4-4937-b5f9-769d210cb21a",
   "metadata": {},
   "outputs": [
    {
     "data": {
      "text/plain": [
       "count    79284.000000\n",
       "mean         1.120819\n",
       "std          0.414196\n",
       "min          0.000000\n",
       "25%          1.000000\n",
       "50%          1.000000\n",
       "75%          1.000000\n",
       "max          8.000000\n",
       "Name: Number_of_Engines, dtype: float64"
      ]
     },
     "execution_count": 134,
     "metadata": {},
     "output_type": "execute_result"
    }
   ],
   "source": [
    "df['Number_of_Engines'].describe()"
   ]
  },
  {
   "cell_type": "code",
   "execution_count": 135,
   "id": "c2ef5d95-5398-4636-b683-d9f184dab7aa",
   "metadata": {},
   "outputs": [
    {
     "data": {
      "text/plain": [
       "Event_Date                 0.000000\n",
       "Make                       0.000000\n",
       "Model                      0.000000\n",
       "Injury_Severity            0.061909\n",
       "Total_Fatal_Injuries       0.000000\n",
       "Total_Serious_Injuries     0.000000\n",
       "Total_Minor_Injuries       0.000000\n",
       "Total_Uninjured            0.000000\n",
       "Purpose_of_flight          0.000000\n",
       "Aircraft_Category         66.270530\n",
       "Engine_Type                4.526639\n",
       "Number_of_Engines          0.000000\n",
       "Location                   0.000000\n",
       "Broad_phase_of_flight      0.000000\n",
       "Country                    0.000000\n",
       "Weather_Condition          0.000000\n",
       "dtype: float64"
      ]
     },
     "execution_count": 135,
     "metadata": {},
     "output_type": "execute_result"
    }
   ],
   "source": [
    "# fill using the median \n",
    "df['Number_of_Engines'] = df['Number_of_Engines'].fillna(df['Number_of_Engines'].median())\n",
    "df.isnull().mean()*100"
   ]
  },
  {
   "cell_type": "code",
   "execution_count": 136,
   "id": "37fbb206-cbb4-418e-a1b6-829fbbf1e054",
   "metadata": {},
   "outputs": [],
   "source": [
    "#CLEANING AIRCRAFT CATEGORY"
   ]
  },
  {
   "cell_type": "code",
   "execution_count": 137,
   "id": "d796f282-d264-40e5-a920-4ac934d4e15d",
   "metadata": {},
   "outputs": [
    {
     "data": {
      "text/plain": [
       "array([nan, 'Airplane', 'Helicopter', 'Glider', 'Balloon', 'Gyrocraft',\n",
       "       'Ultralight', 'Unknown', 'Blimp', 'Powered-Lift', 'Weight-Shift',\n",
       "       'Powered Parachute', 'WSFT', 'ULTR'], dtype=object)"
      ]
     },
     "execution_count": 137,
     "metadata": {},
     "output_type": "execute_result"
    }
   ],
   "source": [
    "df['Aircraft_Category'].unique()"
   ]
  },
  {
   "cell_type": "code",
   "execution_count": 138,
   "id": "00207932-2d12-45c8-8f94-249eb7485338",
   "metadata": {},
   "outputs": [
    {
     "data": {
      "text/plain": [
       "Event_Date                0.000000\n",
       "Make                      0.000000\n",
       "Model                     0.000000\n",
       "Injury_Severity           0.061909\n",
       "Total_Fatal_Injuries      0.000000\n",
       "Total_Serious_Injuries    0.000000\n",
       "Total_Minor_Injuries      0.000000\n",
       "Total_Uninjured           0.000000\n",
       "Purpose_of_flight         0.000000\n",
       "Aircraft_Category         0.000000\n",
       "Engine_Type               4.526639\n",
       "Number_of_Engines         0.000000\n",
       "Location                  0.000000\n",
       "Broad_phase_of_flight     0.000000\n",
       "Country                   0.000000\n",
       "Weather_Condition         0.000000\n",
       "dtype: float64"
      ]
     },
     "execution_count": 138,
     "metadata": {},
     "output_type": "execute_result"
    }
   ],
   "source": [
    "df['Aircraft_Category'] = df['Aircraft_Category'].fillna('Untold')\n",
    "df.isnull().mean()*100"
   ]
  },
  {
   "cell_type": "code",
   "execution_count": 139,
   "id": "bfdd5774-5b35-4769-a3e7-a319cb5d3e39",
   "metadata": {},
   "outputs": [
    {
     "data": {
      "text/plain": [
       "Event_Date                0.000000\n",
       "Make                      0.000000\n",
       "Model                     0.000000\n",
       "Injury_Severity           0.000000\n",
       "Total_Fatal_Injuries      0.000000\n",
       "Total_Serious_Injuries    0.000000\n",
       "Total_Minor_Injuries      0.000000\n",
       "Total_Uninjured           0.000000\n",
       "Purpose_of_flight         0.000000\n",
       "Aircraft_Category         0.000000\n",
       "Engine_Type               4.495433\n",
       "Number_of_Engines         0.000000\n",
       "Location                  0.000000\n",
       "Broad_phase_of_flight     0.000000\n",
       "Country                   0.000000\n",
       "Weather_Condition         0.000000\n",
       "dtype: float64"
      ]
     },
     "execution_count": 139,
     "metadata": {},
     "output_type": "execute_result"
    }
   ],
   "source": [
    "df.dropna(subset=['Injury_Severity'],inplace=True)\n",
    "df.isnull().mean()*100"
   ]
  },
  {
   "cell_type": "raw",
   "id": "2c825634-7fbc-4ace-acdb-df746b4d41bc",
   "metadata": {},
   "source": [
    "WE HAVE A CLEANED DATASET WITH ZERO MISSING VALUES "
   ]
  },
  {
   "cell_type": "markdown",
   "id": "78f6a7e8-be2d-4650-a47a-71b955d54b57",
   "metadata": {},
   "source": [
    "## 3 . EXPLORATORY DATA ANALYSIS : DATA VISUALIZATIONS "
   ]
  },
  {
   "cell_type": "markdown",
   "id": "5b45d9f9-0643-47ec-a6c2-02fcd606059c",
   "metadata": {},
   "source": [
    "#### 1. Which Aircraft Categories Are most involved in Accidents "
   ]
  },
  {
   "cell_type": "code",
   "execution_count": 157,
   "id": "26e09189-8c62-4b4b-a649-1aaa26b451ab",
   "metadata": {},
   "outputs": [],
   "source": [
    "df['Aircraft_Category'] = df['Aircraft_Category'].replace({'WSFT': 'Weight-Shift'})\n"
   ]
  },
  {
   "cell_type": "code",
   "execution_count": 158,
   "id": "dc92b472-c798-47cc-8ebb-2ef67a5df3bb",
   "metadata": {},
   "outputs": [
    {
     "data": {
      "text/plain": [
       "Aircraft_Category\n",
       "Untold        54583\n",
       "Airplane      23801\n",
       "Helicopter     2744\n",
       "Glider          504\n",
       "Balloon         231\n",
       "Name: count, dtype: int64"
      ]
     },
     "execution_count": 158,
     "metadata": {},
     "output_type": "execute_result"
    }
   ],
   "source": [
    "df['Aircraft_Category'].value_counts().head()"
   ]
  },
  {
   "cell_type": "raw",
   "id": "4038c672-9794-43e9-ab1e-62c7ed2d3693",
   "metadata": {},
   "source": [
    "OF THE CLEARLY RECORDED CASES , AIRPLANE CATEGORY TOPS WITH THE HIGHEST NUMBER OF ACCIDENT CASES "
   ]
  },
  {
   "cell_type": "code",
   "execution_count": 159,
   "id": "48e39483-9a8a-4a63-b909-b1c073407f93",
   "metadata": {},
   "outputs": [
    {
     "data": {
      "text/plain": [
       "Aircraft_Category\n",
       "Powered Parachute    90\n",
       "Ultralight           25\n",
       "Blimp                 4\n",
       "Unknown               3\n",
       "Powered-Lift          2\n",
       "Name: count, dtype: int64"
      ]
     },
     "execution_count": 159,
     "metadata": {},
     "output_type": "execute_result"
    }
   ],
   "source": [
    "df['Aircraft_Category'].value_counts().tail()"
   ]
  },
  {
   "cell_type": "raw",
   "id": "c73eecdd-68f7-4dc8-8b41-78f93c727279",
   "metadata": {},
   "source": [
    "IN OTHER HAND ,  POWERED-LIFT CATEGORIES REPORT THE LEAST ACCIDENT CASES"
   ]
  },
  {
   "cell_type": "code",
   "execution_count": 226,
   "id": "f882bce4-0d8d-473f-9e12-5ca813874fa5",
   "metadata": {},
   "outputs": [
    {
     "data": {
      "image/png": "[encoded data removed]",
      "text/plain": [
       "<Figure size 1000x600 with 1 Axes>"
      ]
     },
     "metadata": {},
     "output_type": "display_data"
    }
   ],
   "source": [
    "# LETS VISUALIZE\n",
    "# Count the number of accidents per aircraft category\n",
    "category_counts = df['Aircraft_Category'].value_counts().head()\n",
    "\n",
    "# Plot\n",
    "plt.figure(figsize=(10, 6))\n",
    "category_counts.plot(kind='barh', color='skyblue')\n",
    "plt.gca().invert_yaxis()  # Highest count at the top\n",
    "plt.xlabel(\"Number of Accidents\")\n",
    "plt.ylabel(\"Aircraft Category\")\n",
    "plt.title(\"Aircraft Categories with most  Accident Count\")\n",
    "plt.grid(axis='x', linestyle='--', alpha=0.7)\n",
    "plt.tight_layout()\n",
    "plt.savefig(\"Aircraft categories with most accidents.png\")\n",
    "plt.show()"
   ]
  },
  {
   "cell_type": "markdown",
   "id": "dadb166e-bfb0-4085-b151-e6143b508c7e",
   "metadata": {},
   "source": [
    "##### LESS ACCIDENT COUNTS PER AIRCRAFT CATEGOR"
   ]
  },
  {
   "cell_type": "code",
   "execution_count": 227,
   "id": "e4ad1f9a-c3cb-42a1-8bc8-48bf39510524",
   "metadata": {},
   "outputs": [
    {
     "data": {
      "image/png": "[encoded data removed]",
      "text/plain": [
       "<Figure size 1000x600 with 1 Axes>"
      ]
     },
     "metadata": {},
     "output_type": "display_data"
    }
   ],
   "source": [
    "# Count the number of accidents per aircraft category\n",
    "category_counts = df['Aircraft_Category'].value_counts().tail()\n",
    "\n",
    "# Plot\n",
    "plt.figure(figsize=(10, 6))\n",
    "category_counts.plot(kind='barh', color='skyblue')\n",
    "plt.gca().invert_yaxis()  # Highest count at the top\n",
    "plt.xlabel(\"Number of Accidents\")\n",
    "plt.ylabel(\"Aircraft Model\")\n",
    "plt.title(\"Aircraft categories with least accident counts\")\n",
    "plt.grid(axis='x', linestyle='--', alpha=0.7)\n",
    "plt.tight_layout()\n",
    "plt.show()"
   ]
  },
  {
   "cell_type": "markdown",
   "id": "16c82458-1b6b-4be3-aa42-ad5d8415e431",
   "metadata": {},
   "source": [
    "##### AIRCRAFT CATEGORY THAT REPORTS MINIMAL CASUALTIES"
   ]
  },
  {
   "cell_type": "code",
   "execution_count": 228,
   "id": "2dbffdea-d529-474b-b0bb-f9e1a4112464",
   "metadata": {},
   "outputs": [
    {
     "data": {
      "text/plain": [
       "Aircraft_Category\n",
       "Untold          3.846747\n",
       "Powered-Lift    1.500000\n",
       "Ultralight      0.480000\n",
       "Weight-Shift    0.284024\n",
       "Unknown         0.000000\n",
       "Name: Total_Uninjured, dtype: float64"
      ]
     },
     "execution_count": 228,
     "metadata": {},
     "output_type": "execute_result"
    }
   ],
   "source": [
    "# Group and calculate average fatal injuries\n",
    "avg_fatalities = df.groupby('Aircraft_Category')['Total_Uninjured'].mean()\n",
    "avg_fatalities.tail(5).sort_values(ascending=False)"
   ]
  },
  {
   "cell_type": "raw",
   "id": "25c9c2d0-0fb7-4c61-984b-c047c1db7f93",
   "metadata": {},
   "source": []
  },
  {
   "cell_type": "code",
   "execution_count": 229,
   "id": "6785f5f9-0179-4ef7-9431-92d3647881f1",
   "metadata": {},
   "outputs": [
    {
     "data": {
      "image/png": "[encoded data removed]",
      "text/plain": [
       "<Figure size 1000x600 with 1 Axes>"
      ]
     },
     "metadata": {},
     "output_type": "display_data"
    }
   ],
   "source": [
    "plt.figure(figsize=(10, 6))\n",
    "sns.barplot(data=df, x='Aircraft_Category', y='Total_Uninjured',color='green')\n",
    "plt.title('Uninjured number by Aircraft Category')\n",
    "plt.xlabel('Aircraft Category')\n",
    "plt.ylabel('Uninjured ')\n",
    "plt.xticks(rotation=45)\n",
    "plt.grid(axis='y', linestyle='--', alpha=0.5)\n",
    "plt.tight_layout()\n",
    "plt.savefig(\"uninjured number by craft category.png\")\n",
    "plt.show()"
   ]
  },
  {
   "cell_type": "markdown",
   "id": "53edd688-a21c-49f2-9ca3-fb66737af0cd",
   "metadata": {},
   "source": [
    "##### Categories with fatal injuries "
   ]
  },
  {
   "cell_type": "code",
   "execution_count": 230,
   "id": "3b2f1713-2e2a-493d-8fd1-ceb8707c2af8",
   "metadata": {},
   "outputs": [
    {
     "data": {
      "text/plain": [
       "Aircraft_Category\n",
       "Airplane     9149.0\n",
       "Balloon        43.0\n",
       "Blimp           0.0\n",
       "Glider         94.0\n",
       "Gyrocraft      43.0\n",
       "Name: Total_Fatal_Injuries, dtype: float64"
      ]
     },
     "execution_count": 230,
     "metadata": {},
     "output_type": "execute_result"
    }
   ],
   "source": [
    "# Group and calculate sum fatal injuries\n",
    "sum_category_fatalities = df.groupby('Aircraft_Category')['Total_Fatal_Injuries'].sum()\n",
    "sum_category_fatalities.head(5)"
   ]
  },
  {
   "cell_type": "code",
   "execution_count": 231,
   "id": "c8dc3b47-078e-4a42-af03-479cd5b3812c",
   "metadata": {},
   "outputs": [],
   "source": [
    "# both ULTR and ultralight mean the same \n",
    "df['Aircraft_Category'] = df['Aircraft_Category'].replace({'ULTR': 'Ultralight'})"
   ]
  },
  {
   "cell_type": "code",
   "execution_count": 232,
   "id": "0d69e92a-ca24-4ccc-a2bd-1d77425206b0",
   "metadata": {},
   "outputs": [
    {
     "data": {
      "text/plain": [
       "Aircraft_Category\n",
       "Airplane     9149.0\n",
       "Balloon        43.0\n",
       "Blimp           0.0\n",
       "Glider         94.0\n",
       "Gyrocraft      43.0\n",
       "Name: Total_Fatal_Injuries, dtype: float64"
      ]
     },
     "execution_count": 232,
     "metadata": {},
     "output_type": "execute_result"
    }
   ],
   "source": [
    "# Group and calculate sum fatal injuries\n",
    "sum_category_fatalities = df.groupby('Aircraft_Category')['Total_Fatal_Injuries'].sum()\n",
    "sum_category_fatalities.head(5)"
   ]
  },
  {
   "cell_type": "raw",
   "id": "f3e0b975-4bb7-4ecc-ad91-a1991e7149fb",
   "metadata": {},
   "source": [
    "AIRPLANE RECORDS HIGH FATALITY CASES "
   ]
  },
  {
   "cell_type": "code",
   "execution_count": 222,
   "id": "fd0f36e2-5852-41a1-a811-8ceb40afa2f5",
   "metadata": {},
   "outputs": [
    {
     "name": "stderr",
     "output_type": "stream",
     "text": [
      "C:\\Users\\Zbook\\AppData\\Local\\Temp\\ipykernel_11320\\3109673424.py:3: FutureWarning: \n",
      "\n",
      "Passing `palette` without assigning `hue` is deprecated and will be removed in v0.14.0. Assign the `y` variable to `hue` and set `legend=False` for the same effect.\n",
      "\n",
      "  sns.barplot(x=sum_category_fatalities.values, y=sum_category_fatalities.index,palette='viridis')\n"
     ]
    },
    {
     "data": {
      "image/png": "[encoded data removed]",
      "text/plain": [
       "<Figure size 1000x600 with 1 Axes>"
      ]
     },
     "metadata": {},
     "output_type": "display_data"
    }
   ],
   "source": [
    "# Plot\n",
    "plt.figure(figsize=(10, 6))\n",
    "sns.barplot(x=sum_category_fatalities.values, y=sum_category_fatalities.index,palette='viridis')\n",
    "plt.title('Sum Fatal Injuries by Aircraft Category')\n",
    "plt.xlabel('Average Fatal Injuries')\n",
    "plt.ylabel('Aircraft Category')\n",
    "plt.gca().invert_yaxis()  # Aircraft category with highest fatality tops\n",
    "plt.tight_layout()\n",
    "plt.savefig(\"fatal injuries by aircraft categories.png\")\n",
    "plt.show()"
   ]
  },
  {
   "cell_type": "markdown",
   "id": "f724e59e-14c5-4d0a-b5a2-2169d18fe703",
   "metadata": {},
   "source": [
    "### 2. Which Engine type is prone to accidents , fatality reports per engine "
   ]
  },
  {
   "cell_type": "code",
   "execution_count": 233,
   "id": "ef389e09-d8b7-4150-8b47-1e9116d951b9",
   "metadata": {},
   "outputs": [
    {
     "data": {
      "text/plain": [
       "Engine_Type\n",
       "Reciprocating    68560\n",
       "Turbo Shaft       3130\n",
       "Turbo Prop        2930\n",
       "Unknown           1986\n",
       "Turbo Fan         1441\n",
       "Name: count, dtype: int64"
      ]
     },
     "execution_count": 233,
     "metadata": {},
     "output_type": "execute_result"
    }
   ],
   "source": [
    "df['Engine_Type'].value_counts().head(5)"
   ]
  },
  {
   "cell_type": "code",
   "execution_count": 172,
   "id": "98b32f81-7c4b-4470-a938-f66099dd3803",
   "metadata": {},
   "outputs": [
    {
     "data": {
      "text/plain": [
       "Engine_Type\n",
       "Turbo Jet    568\n",
       "Electric       7\n",
       "LR             2\n",
       "NONE           2\n",
       "UNK            1\n",
       "Name: count, dtype: int64"
      ]
     },
     "execution_count": 172,
     "metadata": {},
     "output_type": "execute_result"
    }
   ],
   "source": [
    "df['Engine_Type'].value_counts().tail(5)"
   ]
  },
  {
   "cell_type": "code",
   "execution_count": 221,
   "id": "2fd4ebee-27fd-45ad-83f0-923a46bff1dd",
   "metadata": {},
   "outputs": [
    {
     "data": {
      "image/png": "[encoded data removed]",
      "text/plain": [
       "<Figure size 1000x500 with 1 Axes>"
      ]
     },
     "metadata": {},
     "output_type": "display_data"
    }
   ],
   "source": [
    "engine_type_count = df['Engine_Type'].value_counts().head(5)\n",
    "\n",
    "plt.figure(figsize=(10, 5))\n",
    "sns.countplot(data=df, x='Engine_Type',color='orange',order=df['Engine_Type'].value_counts().index)\n",
    "plt.title(' Most Accidents by Engine Type')\n",
    "plt.xticks(rotation=45)\n",
    "plt.tight_layout()\n",
    "plt.savefig(\"most accidents by engine type.png\")\n",
    "plt.show()"
   ]
  },
  {
   "cell_type": "raw",
   "id": "3af0830f-bb87-44bf-9746-d57299f848a3",
   "metadata": {},
   "source": [
    "RECIPROCATING ENGINE TYPE EXPERIENCES HIGH AVIATION ACCIDENT COUNTS "
   ]
  },
  {
   "cell_type": "markdown",
   "id": "c3b1d25c-4d49-476a-9927-4e0a2357a5a4",
   "metadata": {},
   "source": [
    "##### How do the engine types vary in terms of fatality cases reported"
   ]
  },
  {
   "cell_type": "code",
   "execution_count": 174,
   "id": "ebdf405e-b596-4c67-9611-de937e37a6bd",
   "metadata": {},
   "outputs": [
    {
     "data": {
      "text/plain": [
       "Engine_Type\n",
       "Reciprocating    22910.0\n",
       "Unknown           3568.0\n",
       "Turbo Fan         3115.0\n",
       "Turbo Prop        2068.0\n",
       "Turbo Shaft       1305.0\n",
       "Turbo Jet          763.0\n",
       "Electric             2.0\n",
       "LR                   0.0\n",
       "NONE                 0.0\n",
       "UNK                  0.0\n",
       "Name: Total_Fatal_Injuries, dtype: float64"
      ]
     },
     "execution_count": 174,
     "metadata": {},
     "output_type": "execute_result"
    }
   ],
   "source": [
    "# Total fatalities by engine type\n",
    "fatalities_by_engine = df.groupby('Engine_Type')['Total_Fatal_Injuries'].sum().sort_values(ascending=False)\n",
    "fatalities_by_engine"
   ]
  },
  {
   "cell_type": "raw",
   "id": "29eb7e25-9b91-461f-9265-f99cade386bd",
   "metadata": {},
   "source": [
    "RECIPROCATING TYPE HAS A HIGHER TOTAL FATALITY REPORT.\n"
   ]
  },
  {
   "cell_type": "code",
   "execution_count": 220,
   "id": "25880709-c8e2-4921-adca-8f4ea7330964",
   "metadata": {},
   "outputs": [
    {
     "data": {
      "image/png": "[encoded data removed]",
      "text/plain": [
       "<Figure size 1000x500 with 1 Axes>"
      ]
     },
     "metadata": {},
     "output_type": "display_data"
    }
   ],
   "source": [
    "#Total fatalities\n",
    "plt.figure(figsize=(10, 5))\n",
    "fatalities_by_engine.plot(kind='barh', color='orange', edgecolor='black')\n",
    "plt.title('Total Fatal Injuries by Engine Type')\n",
    "plt.ylabel('Engine Type')\n",
    "plt.xlabel('Total Fatalities')\n",
    "#plt.xticks(rotation=45)\n",
    "plt.grid(axis='y', linestyle='--', alpha=0.6)\n",
    "plt.gca().invert_yaxis()  # Highest count at the to\n",
    "plt.tight_layout()\n",
    "plt.savefig(\"fatalities by engine type.png\")\n",
    "plt.show()"
   ]
  },
  {
   "cell_type": "markdown",
   "id": "57c3e543-f2df-4bce-b0c1-41437618d152",
   "metadata": {},
   "source": [
    "### 3. WHAT PHASE OF FLIGHTS DO MOST ACCIDENTS OCCUR"
   ]
  },
  {
   "cell_type": "code",
   "execution_count": 180,
   "id": "faa07af6-17a0-4606-9335-b9df769d8731",
   "metadata": {},
   "outputs": [
    {
     "data": {
      "text/plain": [
       "Broad_phase_of_flight\n",
       "Not_Reported    21964\n",
       "Landing         15213\n",
       "Takeoff         12247\n",
       "Cruise          10008\n",
       "Maneuvering      8072\n",
       "Name: count, dtype: int64"
      ]
     },
     "execution_count": 180,
     "metadata": {},
     "output_type": "execute_result"
    }
   ],
   "source": [
    "df['Broad_phase_of_flight'].value_counts().head()"
   ]
  },
  {
   "cell_type": "code",
   "execution_count": 219,
   "id": "acdedbab-72b1-46f0-96e2-068c66333ff9",
   "metadata": {},
   "outputs": [
    {
     "name": "stderr",
     "output_type": "stream",
     "text": [
      "C:\\Users\\Zbook\\AppData\\Local\\Temp\\ipykernel_11320\\1385488949.py:2: FutureWarning: \n",
      "\n",
      "Passing `palette` without assigning `hue` is deprecated and will be removed in v0.14.0. Assign the `x` variable to `hue` and set `legend=False` for the same effect.\n",
      "\n",
      "  sns.countplot(data=df, x='Broad_phase_of_flight', order=df['Broad_phase_of_flight'].value_counts().index, palette='mako')\n"
     ]
    },
    {
     "data": {
      "image/png": "[encoded data removed]",
      "text/plain": [
       "<Figure size 1000x600 with 1 Axes>"
      ]
     },
     "metadata": {},
     "output_type": "display_data"
    }
   ],
   "source": [
    "plt.figure(figsize=(10,6))\n",
    "sns.countplot(data=df, x='Broad_phase_of_flight', order=df['Broad_phase_of_flight'].value_counts().index, palette='mako')\n",
    "plt.xticks(rotation=45)\n",
    "plt.xlabel('Phase of Flight')\n",
    "plt.ylabel('Number of Accidents')\n",
    "plt.title('Accident Frequency by Flight Phase')\n",
    "plt.grid(axis='y', linestyle='--', alpha=0.5)\n",
    "plt.tight_layout()\n",
    "plt.savefig(\"accident freq by phase.png\")\n",
    "plt.show()\n"
   ]
  },
  {
   "cell_type": "markdown",
   "id": "e154fabe-0bc9-4f15-bbe1-80c8de9f1c56",
   "metadata": {},
   "source": [
    "OF THE CLEAR RECORDS , MOST ACCIDENTS DURING THE LANDING PHASE .\n"
   ]
  },
  {
   "cell_type": "markdown",
   "id": "584b4349-f818-4342-b368-7c599fbb869a",
   "metadata": {},
   "source": [
    "### 5. WHICH WEATHER CONDITION HAS THE MOST FATALITIES"
   ]
  },
  {
   "cell_type": "code",
   "execution_count": 182,
   "id": "811b0736-65b7-4d89-92fa-85421271913a",
   "metadata": {},
   "outputs": [
    {
     "data": {
      "text/plain": [
       "Weather_Condition\n",
       "IMC              9565.0\n",
       "Not_Reported     1242.0\n",
       "UNK              2258.0\n",
       "Unk               184.0\n",
       "VMC             23361.0\n",
       "Name: Total_Fatal_Injuries, dtype: float64"
      ]
     },
     "execution_count": 182,
     "metadata": {},
     "output_type": "execute_result"
    }
   ],
   "source": [
    "weather_fatalities= df.groupby('Weather_Condition')['Total_Fatal_Injuries'].sum()\n",
    "weather_fatalities"
   ]
  },
  {
   "cell_type": "code",
   "execution_count": 183,
   "id": "9683534a-f976-4631-a2a4-0ffbe2476c3a",
   "metadata": {},
   "outputs": [
    {
     "data": {
      "text/plain": [
       "array(['UNK', 'IMC', 'VMC', 'Not_Reported', 'Unk'], dtype=object)"
      ]
     },
     "execution_count": 183,
     "metadata": {},
     "output_type": "execute_result"
    }
   ],
   "source": [
    "df['Weather_Condition'].unique()"
   ]
  },
  {
   "cell_type": "code",
   "execution_count": 185,
   "id": "ac9ee200-df5c-42c0-9a50-f1a485530924",
   "metadata": {},
   "outputs": [],
   "source": [
    "# UNK IS SAME AS Unk meaning Unknown \n",
    "df['Weather_Condition'] = df['Weather_Condition'].replace({'Unk': 'UNK'})\n"
   ]
  },
  {
   "cell_type": "code",
   "execution_count": 187,
   "id": "fcc48bca-d718-48c3-8e3d-7acd363e9747",
   "metadata": {},
   "outputs": [
    {
     "data": {
      "text/plain": [
       "Weather_Condition\n",
       "VMC             23361.0\n",
       "IMC              9565.0\n",
       "UNK              2442.0\n",
       "Not_Reported     1242.0\n",
       "Name: Total_Fatal_Injuries, dtype: float64"
      ]
     },
     "execution_count": 187,
     "metadata": {},
     "output_type": "execute_result"
    }
   ],
   "source": [
    "weather_fatalities= df.groupby('Weather_Condition')['Total_Fatal_Injuries'].sum()\n",
    "weather_fatalities.sort_values(ascending=False)"
   ]
  },
  {
   "cell_type": "raw",
   "id": "58133ab3-9261-4462-90d9-f5851d1c1877",
   "metadata": {},
   "source": [
    "\n",
    "VMC stands for Visual Meteorological Conditions reports high fatality count .\n",
    "\n"
   ]
  },
  {
   "cell_type": "code",
   "execution_count": 216,
   "id": "d2974533-f87e-4d85-ad3b-db724fa8f538",
   "metadata": {},
   "outputs": [
    {
     "data": {
      "image/png": "[encoded data removed]",
      "text/plain": [
       "<Figure size 800x600 with 1 Axes>"
      ]
     },
     "metadata": {},
     "output_type": "display_data"
    }
   ],
   "source": [
    "# Group and sum fatal injuries by purpose\n",
    "weather_fatalities = df.groupby('Weather_Condition')['Total_Fatal_Injuries'].sum().sort_values(ascending=False).head(4)\n",
    "\n",
    "# Pie chart\n",
    "plt.figure(figsize=(8, 6))\n",
    "explode = [0.5, 0.5, 0.5, 0.5]  # Highlight fatal injuries\n",
    "plt.pie(weather_fatalities, labels=weather_fatalities.index, autopct='%1.1f%%', startangle=140 ,explode=explode,shadow=True)\n",
    "mylabels=(weather_fatalities)\n",
    "plt.title('Weather and Fatalities')\n",
    "plt.axis('equal')\n",
    "plt.tight_layout()\n",
    "plt.legend()\n",
    "plt.savefig('weather and fatalities pie.png')\n",
    "plt.show()"
   ]
  },
  {
   "cell_type": "code",
   "execution_count": null,
   "id": "1354c6eb-15a6-4312-8d0d-af820a9683ae",
   "metadata": {},
   "outputs": [],
   "source": []
  },
  {
   "cell_type": "raw",
   "id": "6f8bf06f-dbaa-4821-b580-f3ab55afd035",
   "metadata": {},
   "source": [
    "VMC AND IMC ARE THE MOST ASSOCIATED WEATHER CONDITIONS WITH HIGH FATALITIES\n",
    "VMC – Visual Meteorological Conditions\n",
    "IMC – Instrument Meteorological Conditions"
   ]
  },
  {
   "cell_type": "markdown",
   "id": "1a409619-179e-495d-ad05-54ea39ada5bf",
   "metadata": {},
   "source": [
    "### 6 . WHAT IS THE TREND OF AVIATION SAFETY"
   ]
  },
  {
   "cell_type": "code",
   "execution_count": 205,
   "id": "cf94b8c1-e4a3-4d77-b010-25566de3834a",
   "metadata": {},
   "outputs": [],
   "source": [
    "# CONVERTING EVENT DATE TO datetime datatype\n",
    "df['Event_Date'] = pd.to_datetime(df['Event_Date'], errors='coerce')\n",
    "df['Year'] = df['Event_Date'].dt.year"
   ]
  },
  {
   "cell_type": "code",
   "execution_count": 206,
   "id": "b57fda6f-103e-4561-a550-d89bbace4d00",
   "metadata": {},
   "outputs": [
    {
     "data": {
      "text/plain": [
       "Year\n",
       "1948       1\n",
       "1962       1\n",
       "1974       1\n",
       "1977       1\n",
       "1979       1\n",
       "1981       1\n",
       "1982    3559\n",
       "1983    3530\n",
       "1984    3436\n",
       "1985    3076\n",
       "1986    2867\n",
       "1987    2804\n",
       "1988    2711\n",
       "1989    2525\n",
       "1990    2498\n",
       "1991    2441\n",
       "1992    2336\n",
       "1993    2304\n",
       "1994    2239\n",
       "1995    2292\n",
       "1996    2172\n",
       "1997    2125\n",
       "1998    2198\n",
       "1999    2181\n",
       "2000    2156\n",
       "2001    1797\n",
       "2002    1800\n",
       "2003    1850\n",
       "2004    1757\n",
       "2005    1795\n",
       "2006    1640\n",
       "2007    1793\n",
       "2008    1668\n",
       "2009    1567\n",
       "2010    1528\n",
       "2011    1590\n",
       "2012    1598\n",
       "2013    1311\n",
       "2014    1297\n",
       "2015    1301\n",
       "2016    1311\n",
       "2017    1279\n",
       "2018    1316\n",
       "2019    1252\n",
       "2020    1098\n",
       "2021    1126\n",
       "2022    1198\n",
       "Name: count, dtype: int64"
      ]
     },
     "execution_count": 206,
     "metadata": {},
     "output_type": "execute_result"
    }
   ],
   "source": [
    "# Accidents per year\n",
    "df['Year'].value_counts().sort_index()"
   ]
  },
  {
   "cell_type": "raw",
   "id": "5840af20-a91f-4bc3-8172-fd9a336c7a29",
   "metadata": {},
   "source": [
    " A QUICK VIEW OF NUMBER OF ACCIDENTS PER YEAR"
   ]
  },
  {
   "cell_type": "code",
   "execution_count": null,
   "id": "3a016215-f6fd-493b-9ae3-64d18b9498cc",
   "metadata": {},
   "outputs": [],
   "source": []
  },
  {
   "cell_type": "code",
   "execution_count": 217,
   "id": "25b9e979-3658-4666-8043-e3e49c567127",
   "metadata": {},
   "outputs": [
    {
     "data": {
      "image/png": "[encoded data removed]",
      "text/plain": [
       "<Figure size 1200x600 with 1 Axes>"
      ]
     },
     "metadata": {},
     "output_type": "display_data"
    }
   ],
   "source": [
    "# accident per year \n",
    "accidents_per_year = df['Year'].value_counts().sort_index()\n",
    "plt.figure(figsize=(12,6))\n",
    "accidents_per_year.plot(kind='line', marker='o', color='darkgreen')\n",
    "plt.title('Trend of Aviation Accidents Over Time')\n",
    "plt.xlabel('Year')\n",
    "plt.ylabel('Number of Accidents')\n",
    "plt.grid(True, linestyle='--', alpha=0.5)\n",
    "plt.tight_layout()\n",
    "plt.savefig('trend of aviation.png')\n",
    "plt.show()"
   ]
  },
  {
   "cell_type": "markdown",
   "id": "0bca5ff0-d18c-4ca7-9564-22f384d54064",
   "metadata": {},
   "source": [
    "#### Fatalities per year"
   ]
  },
  {
   "cell_type": "code",
   "execution_count": 218,
   "id": "52ea1690-f97a-4a71-9d98-2896ff2c4f36",
   "metadata": {},
   "outputs": [
    {
     "data": {
      "image/png": "[encoded data removed]",
      "text/plain": [
       "<Figure size 1200x600 with 1 Axes>"
      ]
     },
     "metadata": {},
     "output_type": "display_data"
    }
   ],
   "source": [
    "fatalities_per_year = df.groupby('Year')['Total_Fatal_Injuries'].sum()\n",
    "\n",
    "plt.figure(figsize=(12,6))\n",
    "fatalities_per_year.plot(kind='line', color='darkgreen')\n",
    "plt.title('Total Fatalities in Aviation Per Year')\n",
    "plt.xlabel('Year')\n",
    "plt.ylabel('Total Fatalities')\n",
    "plt.grid(axis='y', linestyle='--', alpha=0.5)\n",
    "plt.tight_layout()\n",
    "plt.savefig('fatalies per year.png')\n",
    "plt.show()\n"
   ]
  },
  {
   "cell_type": "code",
   "execution_count": 234,
   "id": "a894386e-cfac-448e-aa02-5ad86c543fc8",
   "metadata": {},
   "outputs": [
    {
     "data": {
      "text/plain": [
       "Weather_Condition\n",
       "VMC             74772\n",
       "IMC              5510\n",
       "Not_Reported     1111\n",
       "UNK               935\n",
       "Name: count, dtype: int64"
      ]
     },
     "execution_count": 234,
     "metadata": {},
     "output_type": "execute_result"
    }
   ],
   "source": [
    "df['Weather_Condition'].value_counts()"
   ]
  },
  {
   "cell_type": "markdown",
   "id": "b18be01d-ccfb-4be4-bb2b-413545369bbc",
   "metadata": {},
   "source": [
    "## OBSERVATIONS \n",
    "\n",
    "1. AIRPLANE  category has the highest number of Aviation A CCIDENT COUNT , followed by HELICOPTER\n",
    "2. POWER-SHIFT  category records the LOWEST accident counts\n",
    "\n",
    "3. Weight-Shift category records minimal fatal cases while AIRPLANE crashes are the MOST FATAL\n",
    "\n",
    "4. Aircrafts with the RECIPROCATING engine type recorded high aviation accident frequencies\n",
    "5. Aircrafts with a single engine are also prone to accidents\n",
    "\n",
    "6. Most Aviation accidents occur at the Landing phase . Could be attributed to frequency due to proximity to the ground and pilot errors\n",
    "\n",
    "8. VMC weather condition high fatality rates , it also records high accident occurance frequency\n",
    "\n",
    "9. Aviation Accidents are declining with time over the years "
   ]
  },
  {
   "cell_type": "markdown",
   "id": "f9b74906-b31a-446a-a485-ea91e03b4cfe",
   "metadata": {},
   "source": [
    "## RECOMMENDATIONS\n",
    "\n",
    "1. Invest in Aircfrats with more than one engine , preferebly the double engined aircrafts . they are less prone to accidents and experience low fatalities when accident occurs\n",
    "2. Purchase power-shift category as it guarantees safety\n",
    "3. Avoid reciprocating engine types as they are prone to accidents\n",
    "4. Employ well trained personell to minimize humar errors that can be fatal\n",
    "5. Employ updated weather forecasting technologies for accurate weather analysis\n",
    "6. It is safe to invest in commercial aircrafts as they generate more income to the business "
   ]
  },
  {
   "cell_type": "markdown",
   "id": "af1e6dd7-5a19-4707-84a5-49f3522c94a9",
   "metadata": {},
   "source": [
    "### Conclusion\n",
    "\n",
    "This analysis has revealed meaningful trends in aviation safety, highlighting how accident frequency and severity vary by aircraft category, flight phase, weather condition, and over time. Notably:\n",
    "\n",
    "Landing and approach phases emerge as the most accident-prone stages, underscoring the critical nature of precision and preparedness during descent.\n",
    "\n",
    "Weather continues to play a major role, with incidents under Visual Meteorological Conditions (VMC) still accounting for a substantial share—pointing toward human factors rather than weather alone.\n",
    "\n",
    "Categories like Ultralight and Weight-Shift aircraft report both low uninjured rates and low accident counts, suggesting either limited usage or higher vulnerability.\n",
    "\n",
    "Despite some data limitations—like substantial missing values in Aircraft_Category, Latitude, and Longitude—imputation and flagging strategies preserved much of the dataset's integrity.\n",
    "\n",
    "Over time, there appears to be a decline in total accidents and fatalities, suggesting progress in safety protocols, aircraft technology, and pilot training.\n",
    "\n",
    "Together, these findings emphasize the importance of continued investment in approach/landing safety measures, better incident reporting practices, and deeper investigation into general aviation and light aircraft performance."
   ]
  },
  {
   "cell_type": "markdown",
   "id": "c0df2873-f0d6-447f-8614-ae10672e6eca",
   "metadata": {},
   "source": [
    "##### saving cleaned data"
   ]
  },
  {
   "cell_type": "code",
   "execution_count": 235,
   "id": "2c9c3b32-fc05-4fb6-8a4b-444e52301027",
   "metadata": {},
   "outputs": [],
   "source": [
    "df = pd.DataFrame(df)"
   ]
  },
  {
   "cell_type": "code",
   "execution_count": 236,
   "id": "e616761e-0b1e-4bdc-b7e1-4fb85bb93953",
   "metadata": {},
   "outputs": [],
   "source": [
    "df.to_csv('Aviation_Risk_Data.csv', index=False)\n"
   ]
  },
  {
   "cell_type": "code",
   "execution_count": null,
   "id": "846443e3-7289-412b-be7b-e8810d83eb17",
   "metadata": {},
   "outputs": [],
   "source": []
  }
 ],
 "metadata": {
  "kernelspec": {
   "display_name": "Python 3 (ipykernel)",
   "language": "python",
   "name": "python3"
  },
  "language_info": {
   "codemirror_mode": {
    "name": "ipython",
    "version": 3
   },
   "file_extension": ".py",
   "mimetype": "text/x-python",
   "name": "python",
   "nbconvert_exporter": "python",
   "pygments_lexer": "ipython3",
   "version": "3.12.7"
  }
 },
 "nbformat": 4,
 "nbformat_minor": 5
}
